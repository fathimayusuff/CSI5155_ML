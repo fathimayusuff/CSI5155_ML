{
  "nbformat": 4,
  "nbformat_minor": 0,
  "metadata": {
    "colab": {
      "name": "ML_Project.ipynb",
      "provenance": [],
      "collapsed_sections": [],
      "toc_visible": true,
      "include_colab_link": true
    },
    "kernelspec": {
      "name": "python3",
      "display_name": "Python 3"
    }
  },
  "cells": [
    {
      "cell_type": "markdown",
      "metadata": {
        "id": "view-in-github",
        "colab_type": "text"
      },
      "source": [
        "<a href=\"https://colab.research.google.com/github/fathimayusuff/CSI5155_ML/blob/master/ML_Project.ipynb\" target=\"_parent\"><img src=\"https://colab.research.google.com/assets/colab-badge.svg\" alt=\"Open In Colab\"/></a>"
      ]
    },
    {
      "cell_type": "code",
      "metadata": {
        "id": "kGPGmRFrhvMZ",
        "colab_type": "code",
        "outputId": "94d37796-11c8-411f-e6ef-32f84d3b77e6",
        "colab": {
          "base_uri": "https://localhost:8080/",
          "height": 74
        }
      },
      "source": [
        "from scipy.io import arff\n",
        "import pandas as pd\n",
        "import seaborn as sns\n",
        "from sklearn import svm\n",
        "from collections import Counter\n",
        "from sklearn.model_selection import train_test_split\n",
        "from sklearn.pipeline import make_pipeline\n",
        "from imblearn.pipeline import make_pipeline as make_pipeline_imb\n",
        "from imblearn.metrics import classification_report_imbalanced\n",
        "from sklearn.metrics import precision_score, recall_score, f1_score, roc_auc_score, accuracy_score, classification_report\n",
        "import numpy as np\n",
        "from IPython.display import display, HTML\n",
        "import matplotlib.pyplot as plt\n",
        "from sklearn.preprocessing import OneHotEncoder \n",
        "import seaborn as sns"
      ],
      "execution_count": 1,
      "outputs": [
        {
          "output_type": "stream",
          "text": [
            "/usr/local/lib/python3.6/dist-packages/sklearn/externals/six.py:31: DeprecationWarning: The module is deprecated in version 0.21 and will be removed in version 0.23 since we've dropped support for Python 2.7. Please rely on the official version of six (https://pypi.org/project/six/).\n",
            "  \"(https://pypi.org/project/six/).\", DeprecationWarning)\n"
          ],
          "name": "stderr"
        }
      ]
    },
    {
      "cell_type": "markdown",
      "metadata": {
        "id": "j1c0epuVoUUR",
        "colab_type": "text"
      },
      "source": [
        "# Import the CSV File"
      ]
    },
    {
      "cell_type": "code",
      "metadata": {
        "id": "aujKteziidMG",
        "colab_type": "code",
        "outputId": "4a01db66-4d5e-47d2-d962-14e9bd9adc4c",
        "colab": {
          "resources": {
            "http://localhost:8080/nbextensions/google.colab/files.js": {
              "data": "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",
              "ok": true,
              "headers": [
                [
                  "content-type",
                  "application/javascript"
                ]
              ],
              "status": 200,
              "status_text": "OK"
            }
          },
          "base_uri": "https://localhost:8080/",
          "height": 74
        }
      },
      "source": [
        "from google.colab import files\n",
        "uploaded = files.upload()"
      ],
      "execution_count": 2,
      "outputs": [
        {
          "output_type": "display_data",
          "data": {
            "text/html": [
              "\n",
              "     <input type=\"file\" id=\"files-0913a637-6b8a-4b1b-908f-d4d916dca96d\" name=\"files[]\" multiple disabled />\n",
              "     <output id=\"result-0913a637-6b8a-4b1b-908f-d4d916dca96d\">\n",
              "      Upload widget is only available when the cell has been executed in the\n",
              "      current browser session. Please rerun this cell to enable.\n",
              "      </output>\n",
              "      <script src=\"/nbextensions/google.colab/files.js\"></script> "
            ],
            "text/plain": [
              "<IPython.core.display.HTML object>"
            ]
          },
          "metadata": {
            "tags": []
          }
        },
        {
          "output_type": "stream",
          "text": [
            "Saving online_shoppers_intention.csv to online_shoppers_intention.csv\n"
          ],
          "name": "stdout"
        }
      ]
    },
    {
      "cell_type": "code",
      "metadata": {
        "id": "8W5HosKmipiu",
        "colab_type": "code",
        "outputId": "751f427a-cdce-4bdd-81ea-a14c6665838a",
        "colab": {
          "base_uri": "https://localhost:8080/",
          "height": 443
        }
      },
      "source": [
        "data = pd.read_csv(\"online_shoppers_intention.csv\") \n",
        "data.shape\n",
        "data.head\n",
        "display(data)"
      ],
      "execution_count": 123,
      "outputs": [
        {
          "output_type": "display_data",
          "data": {
            "text/html": [
              "<div>\n",
              "<style scoped>\n",
              "    .dataframe tbody tr th:only-of-type {\n",
              "        vertical-align: middle;\n",
              "    }\n",
              "\n",
              "    .dataframe tbody tr th {\n",
              "        vertical-align: top;\n",
              "    }\n",
              "\n",
              "    .dataframe thead th {\n",
              "        text-align: right;\n",
              "    }\n",
              "</style>\n",
              "<table border=\"1\" class=\"dataframe\">\n",
              "  <thead>\n",
              "    <tr style=\"text-align: right;\">\n",
              "      <th></th>\n",
              "      <th>Administrative</th>\n",
              "      <th>Administrative_Duration</th>\n",
              "      <th>Informational</th>\n",
              "      <th>Informational_Duration</th>\n",
              "      <th>ProductRelated</th>\n",
              "      <th>ProductRelated_Duration</th>\n",
              "      <th>BounceRates</th>\n",
              "      <th>ExitRates</th>\n",
              "      <th>PageValues</th>\n",
              "      <th>SpecialDay</th>\n",
              "      <th>Month</th>\n",
              "      <th>OperatingSystems</th>\n",
              "      <th>Browser</th>\n",
              "      <th>Region</th>\n",
              "      <th>TrafficType</th>\n",
              "      <th>VisitorType</th>\n",
              "      <th>Weekend</th>\n",
              "      <th>Revenue</th>\n",
              "    </tr>\n",
              "  </thead>\n",
              "  <tbody>\n",
              "    <tr>\n",
              "      <th>0</th>\n",
              "      <td>0</td>\n",
              "      <td>0.0</td>\n",
              "      <td>0</td>\n",
              "      <td>0.0</td>\n",
              "      <td>1</td>\n",
              "      <td>0.000000</td>\n",
              "      <td>0.200000</td>\n",
              "      <td>0.200000</td>\n",
              "      <td>0.000000</td>\n",
              "      <td>0.0</td>\n",
              "      <td>2</td>\n",
              "      <td>1</td>\n",
              "      <td>1</td>\n",
              "      <td>1</td>\n",
              "      <td>1</td>\n",
              "      <td>Returning_Visitor</td>\n",
              "      <td>False</td>\n",
              "      <td>False</td>\n",
              "    </tr>\n",
              "    <tr>\n",
              "      <th>1</th>\n",
              "      <td>0</td>\n",
              "      <td>0.0</td>\n",
              "      <td>0</td>\n",
              "      <td>0.0</td>\n",
              "      <td>2</td>\n",
              "      <td>64.000000</td>\n",
              "      <td>0.000000</td>\n",
              "      <td>0.100000</td>\n",
              "      <td>0.000000</td>\n",
              "      <td>0.0</td>\n",
              "      <td>2</td>\n",
              "      <td>2</td>\n",
              "      <td>2</td>\n",
              "      <td>1</td>\n",
              "      <td>2</td>\n",
              "      <td>Returning_Visitor</td>\n",
              "      <td>False</td>\n",
              "      <td>False</td>\n",
              "    </tr>\n",
              "    <tr>\n",
              "      <th>2</th>\n",
              "      <td>0</td>\n",
              "      <td>0.0</td>\n",
              "      <td>0</td>\n",
              "      <td>0.0</td>\n",
              "      <td>1</td>\n",
              "      <td>0.000000</td>\n",
              "      <td>0.200000</td>\n",
              "      <td>0.200000</td>\n",
              "      <td>0.000000</td>\n",
              "      <td>0.0</td>\n",
              "      <td>2</td>\n",
              "      <td>4</td>\n",
              "      <td>1</td>\n",
              "      <td>9</td>\n",
              "      <td>3</td>\n",
              "      <td>Returning_Visitor</td>\n",
              "      <td>False</td>\n",
              "      <td>False</td>\n",
              "    </tr>\n",
              "    <tr>\n",
              "      <th>3</th>\n",
              "      <td>0</td>\n",
              "      <td>0.0</td>\n",
              "      <td>0</td>\n",
              "      <td>0.0</td>\n",
              "      <td>2</td>\n",
              "      <td>2.666667</td>\n",
              "      <td>0.050000</td>\n",
              "      <td>0.140000</td>\n",
              "      <td>0.000000</td>\n",
              "      <td>0.0</td>\n",
              "      <td>2</td>\n",
              "      <td>3</td>\n",
              "      <td>2</td>\n",
              "      <td>2</td>\n",
              "      <td>4</td>\n",
              "      <td>Returning_Visitor</td>\n",
              "      <td>False</td>\n",
              "      <td>False</td>\n",
              "    </tr>\n",
              "    <tr>\n",
              "      <th>4</th>\n",
              "      <td>0</td>\n",
              "      <td>0.0</td>\n",
              "      <td>0</td>\n",
              "      <td>0.0</td>\n",
              "      <td>10</td>\n",
              "      <td>627.500000</td>\n",
              "      <td>0.020000</td>\n",
              "      <td>0.050000</td>\n",
              "      <td>0.000000</td>\n",
              "      <td>0.0</td>\n",
              "      <td>2</td>\n",
              "      <td>3</td>\n",
              "      <td>3</td>\n",
              "      <td>1</td>\n",
              "      <td>4</td>\n",
              "      <td>Returning_Visitor</td>\n",
              "      <td>True</td>\n",
              "      <td>False</td>\n",
              "    </tr>\n",
              "    <tr>\n",
              "      <th>...</th>\n",
              "      <td>...</td>\n",
              "      <td>...</td>\n",
              "      <td>...</td>\n",
              "      <td>...</td>\n",
              "      <td>...</td>\n",
              "      <td>...</td>\n",
              "      <td>...</td>\n",
              "      <td>...</td>\n",
              "      <td>...</td>\n",
              "      <td>...</td>\n",
              "      <td>...</td>\n",
              "      <td>...</td>\n",
              "      <td>...</td>\n",
              "      <td>...</td>\n",
              "      <td>...</td>\n",
              "      <td>...</td>\n",
              "      <td>...</td>\n",
              "      <td>...</td>\n",
              "    </tr>\n",
              "    <tr>\n",
              "      <th>12325</th>\n",
              "      <td>3</td>\n",
              "      <td>145.0</td>\n",
              "      <td>0</td>\n",
              "      <td>0.0</td>\n",
              "      <td>53</td>\n",
              "      <td>1783.791667</td>\n",
              "      <td>0.007143</td>\n",
              "      <td>0.029031</td>\n",
              "      <td>12.241717</td>\n",
              "      <td>0.0</td>\n",
              "      <td>12</td>\n",
              "      <td>4</td>\n",
              "      <td>6</td>\n",
              "      <td>1</td>\n",
              "      <td>1</td>\n",
              "      <td>Returning_Visitor</td>\n",
              "      <td>True</td>\n",
              "      <td>False</td>\n",
              "    </tr>\n",
              "    <tr>\n",
              "      <th>12326</th>\n",
              "      <td>0</td>\n",
              "      <td>0.0</td>\n",
              "      <td>0</td>\n",
              "      <td>0.0</td>\n",
              "      <td>5</td>\n",
              "      <td>465.750000</td>\n",
              "      <td>0.000000</td>\n",
              "      <td>0.021333</td>\n",
              "      <td>0.000000</td>\n",
              "      <td>0.0</td>\n",
              "      <td>11</td>\n",
              "      <td>3</td>\n",
              "      <td>2</td>\n",
              "      <td>1</td>\n",
              "      <td>8</td>\n",
              "      <td>Returning_Visitor</td>\n",
              "      <td>True</td>\n",
              "      <td>False</td>\n",
              "    </tr>\n",
              "    <tr>\n",
              "      <th>12327</th>\n",
              "      <td>0</td>\n",
              "      <td>0.0</td>\n",
              "      <td>0</td>\n",
              "      <td>0.0</td>\n",
              "      <td>6</td>\n",
              "      <td>184.250000</td>\n",
              "      <td>0.083333</td>\n",
              "      <td>0.086667</td>\n",
              "      <td>0.000000</td>\n",
              "      <td>0.0</td>\n",
              "      <td>11</td>\n",
              "      <td>3</td>\n",
              "      <td>2</td>\n",
              "      <td>1</td>\n",
              "      <td>13</td>\n",
              "      <td>Returning_Visitor</td>\n",
              "      <td>True</td>\n",
              "      <td>False</td>\n",
              "    </tr>\n",
              "    <tr>\n",
              "      <th>12328</th>\n",
              "      <td>4</td>\n",
              "      <td>75.0</td>\n",
              "      <td>0</td>\n",
              "      <td>0.0</td>\n",
              "      <td>15</td>\n",
              "      <td>346.000000</td>\n",
              "      <td>0.000000</td>\n",
              "      <td>0.021053</td>\n",
              "      <td>0.000000</td>\n",
              "      <td>0.0</td>\n",
              "      <td>11</td>\n",
              "      <td>2</td>\n",
              "      <td>2</td>\n",
              "      <td>3</td>\n",
              "      <td>11</td>\n",
              "      <td>Returning_Visitor</td>\n",
              "      <td>False</td>\n",
              "      <td>False</td>\n",
              "    </tr>\n",
              "    <tr>\n",
              "      <th>12329</th>\n",
              "      <td>0</td>\n",
              "      <td>0.0</td>\n",
              "      <td>0</td>\n",
              "      <td>0.0</td>\n",
              "      <td>3</td>\n",
              "      <td>21.250000</td>\n",
              "      <td>0.000000</td>\n",
              "      <td>0.066667</td>\n",
              "      <td>0.000000</td>\n",
              "      <td>0.0</td>\n",
              "      <td>11</td>\n",
              "      <td>3</td>\n",
              "      <td>2</td>\n",
              "      <td>1</td>\n",
              "      <td>2</td>\n",
              "      <td>New_Visitor</td>\n",
              "      <td>True</td>\n",
              "      <td>False</td>\n",
              "    </tr>\n",
              "  </tbody>\n",
              "</table>\n",
              "<p>12330 rows × 18 columns</p>\n",
              "</div>"
            ],
            "text/plain": [
              "       Administrative  Administrative_Duration  ...  Weekend  Revenue\n",
              "0                   0                      0.0  ...    False    False\n",
              "1                   0                      0.0  ...    False    False\n",
              "2                   0                      0.0  ...    False    False\n",
              "3                   0                      0.0  ...    False    False\n",
              "4                   0                      0.0  ...     True    False\n",
              "...               ...                      ...  ...      ...      ...\n",
              "12325               3                    145.0  ...     True    False\n",
              "12326               0                      0.0  ...     True    False\n",
              "12327               0                      0.0  ...     True    False\n",
              "12328               4                     75.0  ...    False    False\n",
              "12329               0                      0.0  ...     True    False\n",
              "\n",
              "[12330 rows x 18 columns]"
            ]
          },
          "metadata": {
            "tags": []
          }
        }
      ]
    },
    {
      "cell_type": "markdown",
      "metadata": {
        "id": "muWIOS8B5ksk",
        "colab_type": "text"
      },
      "source": [
        "# Visualization of data"
      ]
    },
    {
      "cell_type": "markdown",
      "metadata": {
        "id": "mxF7JeVg5kkK",
        "colab_type": "text"
      },
      "source": [
        ""
      ]
    },
    {
      "cell_type": "code",
      "metadata": {
        "id": "yhYQ1-Miznlo",
        "colab_type": "code",
        "outputId": "f9099ac6-6aa7-4c32-e0c4-d8de4e699ac2",
        "colab": {
          "base_uri": "https://localhost:8080/",
          "height": 462
        }
      },
      "source": [
        "plt.rcParams['figure.figsize'] = (10, 7)\n",
        "size = [10551, 1694]\n",
        "colors = ['violet', 'green']\n",
        "labels = [\"Buy\", \"No Buy\"]\n",
        "explode = [0, 0.1]\n",
        "plt.subplot(1, 2, 1)\n",
        "plt.pie(size, colors = colors, labels = labels, explode = explode, shadow = True, autopct = '%.2f%%')\n",
        "plt.title('Revenue', fontsize = 12)\n",
        "plt.axis('off')\n",
        "plt.legend()\n",
        "\n",
        "# checking the Distribution of customers on Weekend\n",
        "plt.subplot(1, 2, 2)\n",
        "sns.countplot(data['VisitorType'], palette = 'inferno')\n",
        "plt.title('Buys or Not', fontsize = 12)\n",
        "plt.xlabel('VisitorType ', fontsize = 12)\n",
        "plt.ylabel('count', fontsize = 12)\n",
        "\n",
        "\n",
        "plt.show()"
      ],
      "execution_count": 124,
      "outputs": [
        {
          "output_type": "display_data",
          "data": {
            "image/png": "[encoded data removed]",
            "text/plain": [
              "<Figure size 720x504 with 2 Axes>"
            ]
          },
          "metadata": {
            "tags": []
          }
        }
      ]
    },
    {
      "cell_type": "code",
      "metadata": {
        "id": "jZyLpHBv2FB2",
        "colab_type": "code",
        "outputId": "af24ee5d-71cf-46dc-c11c-e7f567509a4a",
        "colab": {
          "base_uri": "https://localhost:8080/",
          "height": 688
        }
      },
      "source": [
        "size = [3364, 2998, 1907, 1727, 549, 448, 433, 432, 288, 184]\n",
        "colors = ['orange', 'yellow', 'pink', 'crimson', 'lightgreen', 'cyan', 'magenta', 'lightblue', 'lightgreen', 'violet']\n",
        "labels = \"May\", \"November\", \"March\", \"December\", \"October\", \"September\", \"August\", \"July\", \"June\", \"February\"\n",
        "explode = [0, 0, 0, 0, 0, 0, 0, 0, 0, 0]\n",
        "\n",
        "circle = plt.Circle((0, 0), 0.6, color = 'white')\n",
        "\n",
        "plt.subplot(1, 2, 1)\n",
        "plt.pie(size, colors = colors, explode = explode, shadow = True, autopct = '%.2f%%')\n",
        "plt.title('Special Days', fontsize = 12)\n",
        "p = plt.gcf()\n",
        "p.gca().add_artist(circle)\n",
        "plt.axis('off')\n",
        "plt.legend()\n",
        "\n",
        "df = pd.crosstab(data['Month'], data['Revenue'])\n",
        "df.div(df.sum(1).astype(float), axis = 0).plot(kind = 'bar', stacked = True, figsize = (15, 5), color = ['cyan', 'yellow'])\n",
        "plt.title('Month vs Revenue', fontsize = 30)\n",
        "plt.show()\n",
        "\n",
        "\n",
        "plt.show()"
      ],
      "execution_count": 125,
      "outputs": [
        {
          "output_type": "stream",
          "text": [
            "No handles with labels found to put in legend.\n"
          ],
          "name": "stderr"
        },
        {
          "output_type": "display_data",
          "data": {
            "image/png": "[encoded data removed]",
            "text/plain": [
              "<Figure size 720x504 with 1 Axes>"
            ]
          },
          "metadata": {
            "tags": []
          }
        },
        {
          "output_type": "display_data",
          "data": {
            "image/png": "[encoded data removed]",
            "text/plain": [
              "<Figure size 1080x360 with 1 Axes>"
            ]
          },
          "metadata": {
            "tags": []
          }
        }
      ]
    },
    {
      "cell_type": "markdown",
      "metadata": {
        "id": "RV68TJPz5pJC",
        "colab_type": "text"
      },
      "source": [
        "# Outliers"
      ]
    },
    {
      "cell_type": "code",
      "metadata": {
        "id": "v8vY7NG13x5f",
        "colab_type": "code",
        "outputId": "da658ca4-ef95-45aa-c818-573342ae1a05",
        "colab": {
          "base_uri": "https://localhost:8080/",
          "height": 445
        }
      },
      "source": [
        "plt.rcParams['figure.figsize'] = (7, 7)\n",
        "plt.subplot(2, 2, 1)\n",
        "y=data['PageValues']\n",
        "m=data.shape[0]\n",
        "x=[i for i in range(m)]\n",
        "plt.scatter(x,y,)\n",
        "plt.xlabel('PageValues ', fontsize = 12)\n",
        "\n",
        "plt.subplot(2, 2, 2)\n",
        "y=data['Informational_Duration']\n",
        "m=data.shape[0]\n",
        "x=[i for i in range(m)]\n",
        "plt.scatter(x,y,s=60, c='red', marker='^')\n",
        "plt.xlabel('Informational_Duration ', fontsize = 12)\n",
        "\n",
        "plt.subplot(2,2,3)\n",
        "y=data['Administrative_Duration']\n",
        "m=data.shape[0]\n",
        "x=[i for i in range(m)]\n",
        "plt.scatter(x,y,s=30, c='m', marker='d')\n",
        "plt.xlabel('Administrative_Duration ', fontsize = 12)\n",
        "\n",
        "plt.subplot(2,2,4)\n",
        "y=data['Informational_Duration']\n",
        "m=data.shape[0]\n",
        "x=[i for i in range(m)]\n",
        "plt.scatter(x,y,s=30, c='g', marker='s')\n",
        "plt.xlabel('Informational_Duration ', fontsize = 12)\n",
        "plt.show()"
      ],
      "execution_count": 126,
      "outputs": [
        {
          "output_type": "display_data",
          "data": {
            "image/png": "[encoded data removed]",
            "text/plain": [
              "<Figure size 504x504 with 4 Axes>"
            ]
          },
          "metadata": {
            "tags": []
          }
        }
      ]
    },
    {
      "cell_type": "markdown",
      "metadata": {
        "id": "RBvVbskmoM2d",
        "colab_type": "text"
      },
      "source": [
        "# Conversion of Categorical Data to Numeric data"
      ]
    },
    {
      "cell_type": "code",
      "metadata": {
        "id": "kSWmNn9kn_--",
        "colab_type": "code",
        "colab": {}
      },
      "source": [
        "def score_to_numeric(x):\n",
        "    if x=='Others':\n",
        "        return 3\n",
        "    if x=='New_Visitor':\n",
        "        return 2\n",
        "    if x=='Returning_Visitor':\n",
        "        return 1"
      ],
      "execution_count": 0,
      "outputs": []
    },
    {
      "cell_type": "code",
      "metadata": {
        "id": "menqz52MqJof",
        "colab_type": "code",
        "outputId": "60f3695e-83c1-43ad-8d69-48c188fb3ff6",
        "colab": {
          "base_uri": "https://localhost:8080/",
          "height": 36
        }
      },
      "source": [
        "X = data.select_dtypes(include=[object,bool])\n",
        "X.head(3)\n",
        "X.columns\n"
      ],
      "execution_count": 128,
      "outputs": [
        {
          "output_type": "execute_result",
          "data": {
            "text/plain": [
              "Index(['VisitorType', 'Weekend', 'Revenue'], dtype='object')"
            ]
          },
          "metadata": {
            "tags": []
          },
          "execution_count": 128
        }
      ]
    },
    {
      "cell_type": "code",
      "metadata": {
        "id": "TBrvx6MepliU",
        "colab_type": "code",
        "outputId": "9817505b-a963-483c-882b-a9ae2431aad5",
        "colab": {
          "base_uri": "https://localhost:8080/",
          "height": 206
        }
      },
      "source": [
        "from sklearn.preprocessing import OneHotEncoder\n",
        "from sklearn import preprocessing\n",
        "le = preprocessing.LabelEncoder()\n",
        "\n",
        "X_2 = X.apply(le.fit_transform)\n",
        "X_2.head()\n"
      ],
      "execution_count": 129,
      "outputs": [
        {
          "output_type": "execute_result",
          "data": {
            "text/html": [
              "<div>\n",
              "<style scoped>\n",
              "    .dataframe tbody tr th:only-of-type {\n",
              "        vertical-align: middle;\n",
              "    }\n",
              "\n",
              "    .dataframe tbody tr th {\n",
              "        vertical-align: top;\n",
              "    }\n",
              "\n",
              "    .dataframe thead th {\n",
              "        text-align: right;\n",
              "    }\n",
              "</style>\n",
              "<table border=\"1\" class=\"dataframe\">\n",
              "  <thead>\n",
              "    <tr style=\"text-align: right;\">\n",
              "      <th></th>\n",
              "      <th>VisitorType</th>\n",
              "      <th>Weekend</th>\n",
              "      <th>Revenue</th>\n",
              "    </tr>\n",
              "  </thead>\n",
              "  <tbody>\n",
              "    <tr>\n",
              "      <th>0</th>\n",
              "      <td>2</td>\n",
              "      <td>0</td>\n",
              "      <td>0</td>\n",
              "    </tr>\n",
              "    <tr>\n",
              "      <th>1</th>\n",
              "      <td>2</td>\n",
              "      <td>0</td>\n",
              "      <td>0</td>\n",
              "    </tr>\n",
              "    <tr>\n",
              "      <th>2</th>\n",
              "      <td>2</td>\n",
              "      <td>0</td>\n",
              "      <td>0</td>\n",
              "    </tr>\n",
              "    <tr>\n",
              "      <th>3</th>\n",
              "      <td>2</td>\n",
              "      <td>0</td>\n",
              "      <td>0</td>\n",
              "    </tr>\n",
              "    <tr>\n",
              "      <th>4</th>\n",
              "      <td>2</td>\n",
              "      <td>1</td>\n",
              "      <td>0</td>\n",
              "    </tr>\n",
              "  </tbody>\n",
              "</table>\n",
              "</div>"
            ],
            "text/plain": [
              "   VisitorType  Weekend  Revenue\n",
              "0            2        0        0\n",
              "1            2        0        0\n",
              "2            2        0        0\n",
              "3            2        0        0\n",
              "4            2        1        0"
            ]
          },
          "metadata": {
            "tags": []
          },
          "execution_count": 129
        }
      ]
    },
    {
      "cell_type": "code",
      "metadata": {
        "id": "PcbC9t-iq-0o",
        "colab_type": "code",
        "outputId": "6f83a17d-eaeb-442e-bfb2-3c066d72f09a",
        "colab": {
          "base_uri": "https://localhost:8080/",
          "height": 518
        }
      },
      "source": [
        "\n",
        "enc = preprocessing.OneHotEncoder()\n",
        "\n",
        "# 2. FIT\n",
        "enc.fit(X_2)\n",
        "\n",
        "# 3. Transform\n",
        "onehotlabels = enc.transform(X_2).toarray()\n",
        "onehotlabels.shape\n",
        "onehotlabels\n",
        "X_2"
      ],
      "execution_count": 130,
      "outputs": [
        {
          "output_type": "stream",
          "text": [
            "/usr/local/lib/python3.6/dist-packages/sklearn/preprocessing/_encoders.py:415: FutureWarning: The handling of integer data will change in version 0.22. Currently, the categories are determined based on the range [0, max(values)], while in the future they will be determined based on the unique values.\n",
            "If you want the future behaviour and silence this warning, you can specify \"categories='auto'\".\n",
            "In case you used a LabelEncoder before this OneHotEncoder to convert the categories to integers, then you can now use the OneHotEncoder directly.\n",
            "  warnings.warn(msg, FutureWarning)\n"
          ],
          "name": "stderr"
        },
        {
          "output_type": "execute_result",
          "data": {
            "text/html": [
              "<div>\n",
              "<style scoped>\n",
              "    .dataframe tbody tr th:only-of-type {\n",
              "        vertical-align: middle;\n",
              "    }\n",
              "\n",
              "    .dataframe tbody tr th {\n",
              "        vertical-align: top;\n",
              "    }\n",
              "\n",
              "    .dataframe thead th {\n",
              "        text-align: right;\n",
              "    }\n",
              "</style>\n",
              "<table border=\"1\" class=\"dataframe\">\n",
              "  <thead>\n",
              "    <tr style=\"text-align: right;\">\n",
              "      <th></th>\n",
              "      <th>VisitorType</th>\n",
              "      <th>Weekend</th>\n",
              "      <th>Revenue</th>\n",
              "    </tr>\n",
              "  </thead>\n",
              "  <tbody>\n",
              "    <tr>\n",
              "      <th>0</th>\n",
              "      <td>2</td>\n",
              "      <td>0</td>\n",
              "      <td>0</td>\n",
              "    </tr>\n",
              "    <tr>\n",
              "      <th>1</th>\n",
              "      <td>2</td>\n",
              "      <td>0</td>\n",
              "      <td>0</td>\n",
              "    </tr>\n",
              "    <tr>\n",
              "      <th>2</th>\n",
              "      <td>2</td>\n",
              "      <td>0</td>\n",
              "      <td>0</td>\n",
              "    </tr>\n",
              "    <tr>\n",
              "      <th>3</th>\n",
              "      <td>2</td>\n",
              "      <td>0</td>\n",
              "      <td>0</td>\n",
              "    </tr>\n",
              "    <tr>\n",
              "      <th>4</th>\n",
              "      <td>2</td>\n",
              "      <td>1</td>\n",
              "      <td>0</td>\n",
              "    </tr>\n",
              "    <tr>\n",
              "      <th>...</th>\n",
              "      <td>...</td>\n",
              "      <td>...</td>\n",
              "      <td>...</td>\n",
              "    </tr>\n",
              "    <tr>\n",
              "      <th>12325</th>\n",
              "      <td>2</td>\n",
              "      <td>1</td>\n",
              "      <td>0</td>\n",
              "    </tr>\n",
              "    <tr>\n",
              "      <th>12326</th>\n",
              "      <td>2</td>\n",
              "      <td>1</td>\n",
              "      <td>0</td>\n",
              "    </tr>\n",
              "    <tr>\n",
              "      <th>12327</th>\n",
              "      <td>2</td>\n",
              "      <td>1</td>\n",
              "      <td>0</td>\n",
              "    </tr>\n",
              "    <tr>\n",
              "      <th>12328</th>\n",
              "      <td>2</td>\n",
              "      <td>0</td>\n",
              "      <td>0</td>\n",
              "    </tr>\n",
              "    <tr>\n",
              "      <th>12329</th>\n",
              "      <td>0</td>\n",
              "      <td>1</td>\n",
              "      <td>0</td>\n",
              "    </tr>\n",
              "  </tbody>\n",
              "</table>\n",
              "<p>12330 rows × 3 columns</p>\n",
              "</div>"
            ],
            "text/plain": [
              "       VisitorType  Weekend  Revenue\n",
              "0                2        0        0\n",
              "1                2        0        0\n",
              "2                2        0        0\n",
              "3                2        0        0\n",
              "4                2        1        0\n",
              "...            ...      ...      ...\n",
              "12325            2        1        0\n",
              "12326            2        1        0\n",
              "12327            2        1        0\n",
              "12328            2        0        0\n",
              "12329            0        1        0\n",
              "\n",
              "[12330 rows x 3 columns]"
            ]
          },
          "metadata": {
            "tags": []
          },
          "execution_count": 130
        }
      ]
    },
    {
      "cell_type": "code",
      "metadata": {
        "id": "9Rpsma48ygLY",
        "colab_type": "code",
        "outputId": "0a659833-277d-481d-a9fb-c32da60e78cb",
        "colab": {
          "base_uri": "https://localhost:8080/",
          "height": 243
        }
      },
      "source": [
        "!pip install category_encoders"
      ],
      "execution_count": 131,
      "outputs": [
        {
          "output_type": "stream",
          "text": [
            "Requirement already satisfied: category_encoders in /usr/local/lib/python3.6/dist-packages (2.1.0)\n",
            "Requirement already satisfied: numpy>=1.11.3 in /usr/local/lib/python3.6/dist-packages (from category_encoders) (1.17.4)\n",
            "Requirement already satisfied: scikit-learn>=0.20.0 in /usr/local/lib/python3.6/dist-packages (from category_encoders) (0.21.3)\n",
            "Requirement already satisfied: patsy>=0.4.1 in /usr/local/lib/python3.6/dist-packages (from category_encoders) (0.5.1)\n",
            "Requirement already satisfied: scipy>=0.19.0 in /usr/local/lib/python3.6/dist-packages (from category_encoders) (1.3.3)\n",
            "Requirement already satisfied: statsmodels>=0.6.1 in /usr/local/lib/python3.6/dist-packages (from category_encoders) (0.10.2)\n",
            "Requirement already satisfied: pandas>=0.21.1 in /usr/local/lib/python3.6/dist-packages (from category_encoders) (0.25.3)\n",
            "Requirement already satisfied: joblib>=0.11 in /usr/local/lib/python3.6/dist-packages (from scikit-learn>=0.20.0->category_encoders) (0.14.0)\n",
            "Requirement already satisfied: six in /usr/local/lib/python3.6/dist-packages (from patsy>=0.4.1->category_encoders) (1.12.0)\n",
            "Requirement already satisfied: pytz>=2017.2 in /usr/local/lib/python3.6/dist-packages (from pandas>=0.21.1->category_encoders) (2018.9)\n",
            "Requirement already satisfied: python-dateutil>=2.6.1 in /usr/local/lib/python3.6/dist-packages (from pandas>=0.21.1->category_encoders) (2.6.1)\n"
          ],
          "name": "stdout"
        }
      ]
    },
    {
      "cell_type": "markdown",
      "metadata": {
        "id": "OS4DidLWHBm4",
        "colab_type": "text"
      },
      "source": [
        "#Encoding: One Hot Encoding | Binary Encoding"
      ]
    },
    {
      "cell_type": "code",
      "metadata": {
        "id": "ivc_ZmDfxk7a",
        "colab_type": "code",
        "outputId": "70453fc2-6d1c-4874-92a5-cc1c502673b0",
        "colab": {
          "base_uri": "https://localhost:8080/",
          "height": 423
        }
      },
      "source": [
        "import category_encoders as ce\n",
        "onehotencoder = ce.OneHotEncoder(cols= ['VisitorType']) \n",
        "onehotencoder = onehotencoder.fit_transform(X_2) \n",
        "onehotencoder"
      ],
      "execution_count": 132,
      "outputs": [
        {
          "output_type": "execute_result",
          "data": {
            "text/html": [
              "<div>\n",
              "<style scoped>\n",
              "    .dataframe tbody tr th:only-of-type {\n",
              "        vertical-align: middle;\n",
              "    }\n",
              "\n",
              "    .dataframe tbody tr th {\n",
              "        vertical-align: top;\n",
              "    }\n",
              "\n",
              "    .dataframe thead th {\n",
              "        text-align: right;\n",
              "    }\n",
              "</style>\n",
              "<table border=\"1\" class=\"dataframe\">\n",
              "  <thead>\n",
              "    <tr style=\"text-align: right;\">\n",
              "      <th></th>\n",
              "      <th>VisitorType_1</th>\n",
              "      <th>VisitorType_2</th>\n",
              "      <th>VisitorType_3</th>\n",
              "      <th>Weekend</th>\n",
              "      <th>Revenue</th>\n",
              "    </tr>\n",
              "  </thead>\n",
              "  <tbody>\n",
              "    <tr>\n",
              "      <th>0</th>\n",
              "      <td>1</td>\n",
              "      <td>0</td>\n",
              "      <td>0</td>\n",
              "      <td>0</td>\n",
              "      <td>0</td>\n",
              "    </tr>\n",
              "    <tr>\n",
              "      <th>1</th>\n",
              "      <td>1</td>\n",
              "      <td>0</td>\n",
              "      <td>0</td>\n",
              "      <td>0</td>\n",
              "      <td>0</td>\n",
              "    </tr>\n",
              "    <tr>\n",
              "      <th>2</th>\n",
              "      <td>1</td>\n",
              "      <td>0</td>\n",
              "      <td>0</td>\n",
              "      <td>0</td>\n",
              "      <td>0</td>\n",
              "    </tr>\n",
              "    <tr>\n",
              "      <th>3</th>\n",
              "      <td>1</td>\n",
              "      <td>0</td>\n",
              "      <td>0</td>\n",
              "      <td>0</td>\n",
              "      <td>0</td>\n",
              "    </tr>\n",
              "    <tr>\n",
              "      <th>4</th>\n",
              "      <td>1</td>\n",
              "      <td>0</td>\n",
              "      <td>0</td>\n",
              "      <td>1</td>\n",
              "      <td>0</td>\n",
              "    </tr>\n",
              "    <tr>\n",
              "      <th>...</th>\n",
              "      <td>...</td>\n",
              "      <td>...</td>\n",
              "      <td>...</td>\n",
              "      <td>...</td>\n",
              "      <td>...</td>\n",
              "    </tr>\n",
              "    <tr>\n",
              "      <th>12325</th>\n",
              "      <td>1</td>\n",
              "      <td>0</td>\n",
              "      <td>0</td>\n",
              "      <td>1</td>\n",
              "      <td>0</td>\n",
              "    </tr>\n",
              "    <tr>\n",
              "      <th>12326</th>\n",
              "      <td>1</td>\n",
              "      <td>0</td>\n",
              "      <td>0</td>\n",
              "      <td>1</td>\n",
              "      <td>0</td>\n",
              "    </tr>\n",
              "    <tr>\n",
              "      <th>12327</th>\n",
              "      <td>1</td>\n",
              "      <td>0</td>\n",
              "      <td>0</td>\n",
              "      <td>1</td>\n",
              "      <td>0</td>\n",
              "    </tr>\n",
              "    <tr>\n",
              "      <th>12328</th>\n",
              "      <td>1</td>\n",
              "      <td>0</td>\n",
              "      <td>0</td>\n",
              "      <td>0</td>\n",
              "      <td>0</td>\n",
              "    </tr>\n",
              "    <tr>\n",
              "      <th>12329</th>\n",
              "      <td>0</td>\n",
              "      <td>1</td>\n",
              "      <td>0</td>\n",
              "      <td>1</td>\n",
              "      <td>0</td>\n",
              "    </tr>\n",
              "  </tbody>\n",
              "</table>\n",
              "<p>12330 rows × 5 columns</p>\n",
              "</div>"
            ],
            "text/plain": [
              "       VisitorType_1  VisitorType_2  VisitorType_3  Weekend  Revenue\n",
              "0                  1              0              0        0        0\n",
              "1                  1              0              0        0        0\n",
              "2                  1              0              0        0        0\n",
              "3                  1              0              0        0        0\n",
              "4                  1              0              0        1        0\n",
              "...              ...            ...            ...      ...      ...\n",
              "12325              1              0              0        1        0\n",
              "12326              1              0              0        1        0\n",
              "12327              1              0              0        1        0\n",
              "12328              1              0              0        0        0\n",
              "12329              0              1              0        1        0\n",
              "\n",
              "[12330 rows x 5 columns]"
            ]
          },
          "metadata": {
            "tags": []
          },
          "execution_count": 132
        }
      ]
    },
    {
      "cell_type": "code",
      "metadata": {
        "id": "mIJLez6qwZk3",
        "colab_type": "code",
        "outputId": "f6428a2d-5546-41ee-ef97-8c9a3d932168",
        "colab": {
          "base_uri": "https://localhost:8080/",
          "height": 443
        }
      },
      "source": [
        "data_new=data\n",
        "data_new['VisitorType_1']=onehotencoder['VisitorType_1']\n",
        "data_new['VisitorType_2']=onehotencoder['VisitorType_2']\n",
        "data_new['VisitorType_3']=onehotencoder['VisitorType_3']\n",
        "\n",
        "data_new['Weekend']=X_2['Weekend']\n",
        "data_new=data_new.drop(columns='VisitorType')\n",
        "data_new"
      ],
      "execution_count": 133,
      "outputs": [
        {
          "output_type": "execute_result",
          "data": {
            "text/html": [
              "<div>\n",
              "<style scoped>\n",
              "    .dataframe tbody tr th:only-of-type {\n",
              "        vertical-align: middle;\n",
              "    }\n",
              "\n",
              "    .dataframe tbody tr th {\n",
              "        vertical-align: top;\n",
              "    }\n",
              "\n",
              "    .dataframe thead th {\n",
              "        text-align: right;\n",
              "    }\n",
              "</style>\n",
              "<table border=\"1\" class=\"dataframe\">\n",
              "  <thead>\n",
              "    <tr style=\"text-align: right;\">\n",
              "      <th></th>\n",
              "      <th>Administrative</th>\n",
              "      <th>Administrative_Duration</th>\n",
              "      <th>Informational</th>\n",
              "      <th>Informational_Duration</th>\n",
              "      <th>ProductRelated</th>\n",
              "      <th>ProductRelated_Duration</th>\n",
              "      <th>BounceRates</th>\n",
              "      <th>ExitRates</th>\n",
              "      <th>PageValues</th>\n",
              "      <th>SpecialDay</th>\n",
              "      <th>Month</th>\n",
              "      <th>OperatingSystems</th>\n",
              "      <th>Browser</th>\n",
              "      <th>Region</th>\n",
              "      <th>TrafficType</th>\n",
              "      <th>Weekend</th>\n",
              "      <th>Revenue</th>\n",
              "      <th>VisitorType_1</th>\n",
              "      <th>VisitorType_2</th>\n",
              "      <th>VisitorType_3</th>\n",
              "    </tr>\n",
              "  </thead>\n",
              "  <tbody>\n",
              "    <tr>\n",
              "      <th>0</th>\n",
              "      <td>0</td>\n",
              "      <td>0.0</td>\n",
              "      <td>0</td>\n",
              "      <td>0.0</td>\n",
              "      <td>1</td>\n",
              "      <td>0.000000</td>\n",
              "      <td>0.200000</td>\n",
              "      <td>0.200000</td>\n",
              "      <td>0.000000</td>\n",
              "      <td>0.0</td>\n",
              "      <td>2</td>\n",
              "      <td>1</td>\n",
              "      <td>1</td>\n",
              "      <td>1</td>\n",
              "      <td>1</td>\n",
              "      <td>0</td>\n",
              "      <td>False</td>\n",
              "      <td>1</td>\n",
              "      <td>0</td>\n",
              "      <td>0</td>\n",
              "    </tr>\n",
              "    <tr>\n",
              "      <th>1</th>\n",
              "      <td>0</td>\n",
              "      <td>0.0</td>\n",
              "      <td>0</td>\n",
              "      <td>0.0</td>\n",
              "      <td>2</td>\n",
              "      <td>64.000000</td>\n",
              "      <td>0.000000</td>\n",
              "      <td>0.100000</td>\n",
              "      <td>0.000000</td>\n",
              "      <td>0.0</td>\n",
              "      <td>2</td>\n",
              "      <td>2</td>\n",
              "      <td>2</td>\n",
              "      <td>1</td>\n",
              "      <td>2</td>\n",
              "      <td>0</td>\n",
              "      <td>False</td>\n",
              "      <td>1</td>\n",
              "      <td>0</td>\n",
              "      <td>0</td>\n",
              "    </tr>\n",
              "    <tr>\n",
              "      <th>2</th>\n",
              "      <td>0</td>\n",
              "      <td>0.0</td>\n",
              "      <td>0</td>\n",
              "      <td>0.0</td>\n",
              "      <td>1</td>\n",
              "      <td>0.000000</td>\n",
              "      <td>0.200000</td>\n",
              "      <td>0.200000</td>\n",
              "      <td>0.000000</td>\n",
              "      <td>0.0</td>\n",
              "      <td>2</td>\n",
              "      <td>4</td>\n",
              "      <td>1</td>\n",
              "      <td>9</td>\n",
              "      <td>3</td>\n",
              "      <td>0</td>\n",
              "      <td>False</td>\n",
              "      <td>1</td>\n",
              "      <td>0</td>\n",
              "      <td>0</td>\n",
              "    </tr>\n",
              "    <tr>\n",
              "      <th>3</th>\n",
              "      <td>0</td>\n",
              "      <td>0.0</td>\n",
              "      <td>0</td>\n",
              "      <td>0.0</td>\n",
              "      <td>2</td>\n",
              "      <td>2.666667</td>\n",
              "      <td>0.050000</td>\n",
              "      <td>0.140000</td>\n",
              "      <td>0.000000</td>\n",
              "      <td>0.0</td>\n",
              "      <td>2</td>\n",
              "      <td>3</td>\n",
              "      <td>2</td>\n",
              "      <td>2</td>\n",
              "      <td>4</td>\n",
              "      <td>0</td>\n",
              "      <td>False</td>\n",
              "      <td>1</td>\n",
              "      <td>0</td>\n",
              "      <td>0</td>\n",
              "    </tr>\n",
              "    <tr>\n",
              "      <th>4</th>\n",
              "      <td>0</td>\n",
              "      <td>0.0</td>\n",
              "      <td>0</td>\n",
              "      <td>0.0</td>\n",
              "      <td>10</td>\n",
              "      <td>627.500000</td>\n",
              "      <td>0.020000</td>\n",
              "      <td>0.050000</td>\n",
              "      <td>0.000000</td>\n",
              "      <td>0.0</td>\n",
              "      <td>2</td>\n",
              "      <td>3</td>\n",
              "      <td>3</td>\n",
              "      <td>1</td>\n",
              "      <td>4</td>\n",
              "      <td>1</td>\n",
              "      <td>False</td>\n",
              "      <td>1</td>\n",
              "      <td>0</td>\n",
              "      <td>0</td>\n",
              "    </tr>\n",
              "    <tr>\n",
              "      <th>...</th>\n",
              "      <td>...</td>\n",
              "      <td>...</td>\n",
              "      <td>...</td>\n",
              "      <td>...</td>\n",
              "      <td>...</td>\n",
              "      <td>...</td>\n",
              "      <td>...</td>\n",
              "      <td>...</td>\n",
              "      <td>...</td>\n",
              "      <td>...</td>\n",
              "      <td>...</td>\n",
              "      <td>...</td>\n",
              "      <td>...</td>\n",
              "      <td>...</td>\n",
              "      <td>...</td>\n",
              "      <td>...</td>\n",
              "      <td>...</td>\n",
              "      <td>...</td>\n",
              "      <td>...</td>\n",
              "      <td>...</td>\n",
              "    </tr>\n",
              "    <tr>\n",
              "      <th>12325</th>\n",
              "      <td>3</td>\n",
              "      <td>145.0</td>\n",
              "      <td>0</td>\n",
              "      <td>0.0</td>\n",
              "      <td>53</td>\n",
              "      <td>1783.791667</td>\n",
              "      <td>0.007143</td>\n",
              "      <td>0.029031</td>\n",
              "      <td>12.241717</td>\n",
              "      <td>0.0</td>\n",
              "      <td>12</td>\n",
              "      <td>4</td>\n",
              "      <td>6</td>\n",
              "      <td>1</td>\n",
              "      <td>1</td>\n",
              "      <td>1</td>\n",
              "      <td>False</td>\n",
              "      <td>1</td>\n",
              "      <td>0</td>\n",
              "      <td>0</td>\n",
              "    </tr>\n",
              "    <tr>\n",
              "      <th>12326</th>\n",
              "      <td>0</td>\n",
              "      <td>0.0</td>\n",
              "      <td>0</td>\n",
              "      <td>0.0</td>\n",
              "      <td>5</td>\n",
              "      <td>465.750000</td>\n",
              "      <td>0.000000</td>\n",
              "      <td>0.021333</td>\n",
              "      <td>0.000000</td>\n",
              "      <td>0.0</td>\n",
              "      <td>11</td>\n",
              "      <td>3</td>\n",
              "      <td>2</td>\n",
              "      <td>1</td>\n",
              "      <td>8</td>\n",
              "      <td>1</td>\n",
              "      <td>False</td>\n",
              "      <td>1</td>\n",
              "      <td>0</td>\n",
              "      <td>0</td>\n",
              "    </tr>\n",
              "    <tr>\n",
              "      <th>12327</th>\n",
              "      <td>0</td>\n",
              "      <td>0.0</td>\n",
              "      <td>0</td>\n",
              "      <td>0.0</td>\n",
              "      <td>6</td>\n",
              "      <td>184.250000</td>\n",
              "      <td>0.083333</td>\n",
              "      <td>0.086667</td>\n",
              "      <td>0.000000</td>\n",
              "      <td>0.0</td>\n",
              "      <td>11</td>\n",
              "      <td>3</td>\n",
              "      <td>2</td>\n",
              "      <td>1</td>\n",
              "      <td>13</td>\n",
              "      <td>1</td>\n",
              "      <td>False</td>\n",
              "      <td>1</td>\n",
              "      <td>0</td>\n",
              "      <td>0</td>\n",
              "    </tr>\n",
              "    <tr>\n",
              "      <th>12328</th>\n",
              "      <td>4</td>\n",
              "      <td>75.0</td>\n",
              "      <td>0</td>\n",
              "      <td>0.0</td>\n",
              "      <td>15</td>\n",
              "      <td>346.000000</td>\n",
              "      <td>0.000000</td>\n",
              "      <td>0.021053</td>\n",
              "      <td>0.000000</td>\n",
              "      <td>0.0</td>\n",
              "      <td>11</td>\n",
              "      <td>2</td>\n",
              "      <td>2</td>\n",
              "      <td>3</td>\n",
              "      <td>11</td>\n",
              "      <td>0</td>\n",
              "      <td>False</td>\n",
              "      <td>1</td>\n",
              "      <td>0</td>\n",
              "      <td>0</td>\n",
              "    </tr>\n",
              "    <tr>\n",
              "      <th>12329</th>\n",
              "      <td>0</td>\n",
              "      <td>0.0</td>\n",
              "      <td>0</td>\n",
              "      <td>0.0</td>\n",
              "      <td>3</td>\n",
              "      <td>21.250000</td>\n",
              "      <td>0.000000</td>\n",
              "      <td>0.066667</td>\n",
              "      <td>0.000000</td>\n",
              "      <td>0.0</td>\n",
              "      <td>11</td>\n",
              "      <td>3</td>\n",
              "      <td>2</td>\n",
              "      <td>1</td>\n",
              "      <td>2</td>\n",
              "      <td>1</td>\n",
              "      <td>False</td>\n",
              "      <td>0</td>\n",
              "      <td>1</td>\n",
              "      <td>0</td>\n",
              "    </tr>\n",
              "  </tbody>\n",
              "</table>\n",
              "<p>12330 rows × 20 columns</p>\n",
              "</div>"
            ],
            "text/plain": [
              "       Administrative  Administrative_Duration  ...  VisitorType_2  VisitorType_3\n",
              "0                   0                      0.0  ...              0              0\n",
              "1                   0                      0.0  ...              0              0\n",
              "2                   0                      0.0  ...              0              0\n",
              "3                   0                      0.0  ...              0              0\n",
              "4                   0                      0.0  ...              0              0\n",
              "...               ...                      ...  ...            ...            ...\n",
              "12325               3                    145.0  ...              0              0\n",
              "12326               0                      0.0  ...              0              0\n",
              "12327               0                      0.0  ...              0              0\n",
              "12328               4                     75.0  ...              0              0\n",
              "12329               0                      0.0  ...              1              0\n",
              "\n",
              "[12330 rows x 20 columns]"
            ]
          },
          "metadata": {
            "tags": []
          },
          "execution_count": 133
        }
      ]
    },
    {
      "cell_type": "code",
      "metadata": {
        "id": "0-yCpbxP3bI3",
        "colab_type": "code",
        "colab": {}
      },
      "source": [
        "def min_max_10(val, min, max):\n",
        "  max_a = max\n",
        "  min_a = min\n",
        "  min_norm = 0\n",
        "  max_norm =1\n",
        "  x_norm = (val- min_a) *(max_norm - min_norm) / (max_a-min_a) + min_norm\n",
        "  return x_norm"
      ],
      "execution_count": 0,
      "outputs": []
    },
    {
      "cell_type": "code",
      "metadata": {
        "id": "Kj4_FjMe6Os8",
        "colab_type": "code",
        "colab": {}
      },
      "source": [
        "data_1=data_new\n",
        "data_1['Informational']=min_max_10(data_1['Informational'], 0, 50)\n",
        "data_1['Administrative']=min_max_10(data_1['Administrative'], 0, 50)\n",
        "data_1['Month']=min_max_10(data_1['Month'], 1, 12)\n",
        "data_1['OperatingSystems']=min_max_10(data_1['OperatingSystems'], 1, 10)\n",
        "data_1['Browser']=min_max_10(data_1['Browser'], 1, 10)\n",
        "data_1['Region']=min_max_10(data_1['Region'], 1, 10)\n",
        "data_1['TrafficType']=min_max_10(data_1['TrafficType'], 1, 20)\n",
        "data_1['ProductRelated']=min_max_10(data_1['ProductRelated'], 1, 1000)"
      ],
      "execution_count": 0,
      "outputs": []
    },
    {
      "cell_type": "code",
      "metadata": {
        "id": "-lBKSNRP3xpH",
        "colab_type": "code",
        "outputId": "17434038-6de7-4e5e-819d-06cb713a5aee",
        "colab": {
          "base_uri": "https://localhost:8080/",
          "height": 443
        }
      },
      "source": [
        "data_1"
      ],
      "execution_count": 136,
      "outputs": [
        {
          "output_type": "execute_result",
          "data": {
            "text/html": [
              "<div>\n",
              "<style scoped>\n",
              "    .dataframe tbody tr th:only-of-type {\n",
              "        vertical-align: middle;\n",
              "    }\n",
              "\n",
              "    .dataframe tbody tr th {\n",
              "        vertical-align: top;\n",
              "    }\n",
              "\n",
              "    .dataframe thead th {\n",
              "        text-align: right;\n",
              "    }\n",
              "</style>\n",
              "<table border=\"1\" class=\"dataframe\">\n",
              "  <thead>\n",
              "    <tr style=\"text-align: right;\">\n",
              "      <th></th>\n",
              "      <th>Administrative</th>\n",
              "      <th>Administrative_Duration</th>\n",
              "      <th>Informational</th>\n",
              "      <th>Informational_Duration</th>\n",
              "      <th>ProductRelated</th>\n",
              "      <th>ProductRelated_Duration</th>\n",
              "      <th>BounceRates</th>\n",
              "      <th>ExitRates</th>\n",
              "      <th>PageValues</th>\n",
              "      <th>SpecialDay</th>\n",
              "      <th>Month</th>\n",
              "      <th>OperatingSystems</th>\n",
              "      <th>Browser</th>\n",
              "      <th>Region</th>\n",
              "      <th>TrafficType</th>\n",
              "      <th>Weekend</th>\n",
              "      <th>Revenue</th>\n",
              "      <th>VisitorType_1</th>\n",
              "      <th>VisitorType_2</th>\n",
              "      <th>VisitorType_3</th>\n",
              "    </tr>\n",
              "  </thead>\n",
              "  <tbody>\n",
              "    <tr>\n",
              "      <th>0</th>\n",
              "      <td>0.00</td>\n",
              "      <td>0.0</td>\n",
              "      <td>0.0</td>\n",
              "      <td>0.0</td>\n",
              "      <td>0.000000</td>\n",
              "      <td>0.000000</td>\n",
              "      <td>0.200000</td>\n",
              "      <td>0.200000</td>\n",
              "      <td>0.000000</td>\n",
              "      <td>0.0</td>\n",
              "      <td>0.090909</td>\n",
              "      <td>0.000000</td>\n",
              "      <td>0.000000</td>\n",
              "      <td>0.000000</td>\n",
              "      <td>0.000000</td>\n",
              "      <td>0</td>\n",
              "      <td>False</td>\n",
              "      <td>1</td>\n",
              "      <td>0</td>\n",
              "      <td>0</td>\n",
              "    </tr>\n",
              "    <tr>\n",
              "      <th>1</th>\n",
              "      <td>0.00</td>\n",
              "      <td>0.0</td>\n",
              "      <td>0.0</td>\n",
              "      <td>0.0</td>\n",
              "      <td>0.001001</td>\n",
              "      <td>64.000000</td>\n",
              "      <td>0.000000</td>\n",
              "      <td>0.100000</td>\n",
              "      <td>0.000000</td>\n",
              "      <td>0.0</td>\n",
              "      <td>0.090909</td>\n",
              "      <td>0.111111</td>\n",
              "      <td>0.111111</td>\n",
              "      <td>0.000000</td>\n",
              "      <td>0.052632</td>\n",
              "      <td>0</td>\n",
              "      <td>False</td>\n",
              "      <td>1</td>\n",
              "      <td>0</td>\n",
              "      <td>0</td>\n",
              "    </tr>\n",
              "    <tr>\n",
              "      <th>2</th>\n",
              "      <td>0.00</td>\n",
              "      <td>0.0</td>\n",
              "      <td>0.0</td>\n",
              "      <td>0.0</td>\n",
              "      <td>0.000000</td>\n",
              "      <td>0.000000</td>\n",
              "      <td>0.200000</td>\n",
              "      <td>0.200000</td>\n",
              "      <td>0.000000</td>\n",
              "      <td>0.0</td>\n",
              "      <td>0.090909</td>\n",
              "      <td>0.333333</td>\n",
              "      <td>0.000000</td>\n",
              "      <td>0.888889</td>\n",
              "      <td>0.105263</td>\n",
              "      <td>0</td>\n",
              "      <td>False</td>\n",
              "      <td>1</td>\n",
              "      <td>0</td>\n",
              "      <td>0</td>\n",
              "    </tr>\n",
              "    <tr>\n",
              "      <th>3</th>\n",
              "      <td>0.00</td>\n",
              "      <td>0.0</td>\n",
              "      <td>0.0</td>\n",
              "      <td>0.0</td>\n",
              "      <td>0.001001</td>\n",
              "      <td>2.666667</td>\n",
              "      <td>0.050000</td>\n",
              "      <td>0.140000</td>\n",
              "      <td>0.000000</td>\n",
              "      <td>0.0</td>\n",
              "      <td>0.090909</td>\n",
              "      <td>0.222222</td>\n",
              "      <td>0.111111</td>\n",
              "      <td>0.111111</td>\n",
              "      <td>0.157895</td>\n",
              "      <td>0</td>\n",
              "      <td>False</td>\n",
              "      <td>1</td>\n",
              "      <td>0</td>\n",
              "      <td>0</td>\n",
              "    </tr>\n",
              "    <tr>\n",
              "      <th>4</th>\n",
              "      <td>0.00</td>\n",
              "      <td>0.0</td>\n",
              "      <td>0.0</td>\n",
              "      <td>0.0</td>\n",
              "      <td>0.009009</td>\n",
              "      <td>627.500000</td>\n",
              "      <td>0.020000</td>\n",
              "      <td>0.050000</td>\n",
              "      <td>0.000000</td>\n",
              "      <td>0.0</td>\n",
              "      <td>0.090909</td>\n",
              "      <td>0.222222</td>\n",
              "      <td>0.222222</td>\n",
              "      <td>0.000000</td>\n",
              "      <td>0.157895</td>\n",
              "      <td>1</td>\n",
              "      <td>False</td>\n",
              "      <td>1</td>\n",
              "      <td>0</td>\n",
              "      <td>0</td>\n",
              "    </tr>\n",
              "    <tr>\n",
              "      <th>...</th>\n",
              "      <td>...</td>\n",
              "      <td>...</td>\n",
              "      <td>...</td>\n",
              "      <td>...</td>\n",
              "      <td>...</td>\n",
              "      <td>...</td>\n",
              "      <td>...</td>\n",
              "      <td>...</td>\n",
              "      <td>...</td>\n",
              "      <td>...</td>\n",
              "      <td>...</td>\n",
              "      <td>...</td>\n",
              "      <td>...</td>\n",
              "      <td>...</td>\n",
              "      <td>...</td>\n",
              "      <td>...</td>\n",
              "      <td>...</td>\n",
              "      <td>...</td>\n",
              "      <td>...</td>\n",
              "      <td>...</td>\n",
              "    </tr>\n",
              "    <tr>\n",
              "      <th>12325</th>\n",
              "      <td>0.06</td>\n",
              "      <td>145.0</td>\n",
              "      <td>0.0</td>\n",
              "      <td>0.0</td>\n",
              "      <td>0.052052</td>\n",
              "      <td>1783.791667</td>\n",
              "      <td>0.007143</td>\n",
              "      <td>0.029031</td>\n",
              "      <td>12.241717</td>\n",
              "      <td>0.0</td>\n",
              "      <td>1.000000</td>\n",
              "      <td>0.333333</td>\n",
              "      <td>0.555556</td>\n",
              "      <td>0.000000</td>\n",
              "      <td>0.000000</td>\n",
              "      <td>1</td>\n",
              "      <td>False</td>\n",
              "      <td>1</td>\n",
              "      <td>0</td>\n",
              "      <td>0</td>\n",
              "    </tr>\n",
              "    <tr>\n",
              "      <th>12326</th>\n",
              "      <td>0.00</td>\n",
              "      <td>0.0</td>\n",
              "      <td>0.0</td>\n",
              "      <td>0.0</td>\n",
              "      <td>0.004004</td>\n",
              "      <td>465.750000</td>\n",
              "      <td>0.000000</td>\n",
              "      <td>0.021333</td>\n",
              "      <td>0.000000</td>\n",
              "      <td>0.0</td>\n",
              "      <td>0.909091</td>\n",
              "      <td>0.222222</td>\n",
              "      <td>0.111111</td>\n",
              "      <td>0.000000</td>\n",
              "      <td>0.368421</td>\n",
              "      <td>1</td>\n",
              "      <td>False</td>\n",
              "      <td>1</td>\n",
              "      <td>0</td>\n",
              "      <td>0</td>\n",
              "    </tr>\n",
              "    <tr>\n",
              "      <th>12327</th>\n",
              "      <td>0.00</td>\n",
              "      <td>0.0</td>\n",
              "      <td>0.0</td>\n",
              "      <td>0.0</td>\n",
              "      <td>0.005005</td>\n",
              "      <td>184.250000</td>\n",
              "      <td>0.083333</td>\n",
              "      <td>0.086667</td>\n",
              "      <td>0.000000</td>\n",
              "      <td>0.0</td>\n",
              "      <td>0.909091</td>\n",
              "      <td>0.222222</td>\n",
              "      <td>0.111111</td>\n",
              "      <td>0.000000</td>\n",
              "      <td>0.631579</td>\n",
              "      <td>1</td>\n",
              "      <td>False</td>\n",
              "      <td>1</td>\n",
              "      <td>0</td>\n",
              "      <td>0</td>\n",
              "    </tr>\n",
              "    <tr>\n",
              "      <th>12328</th>\n",
              "      <td>0.08</td>\n",
              "      <td>75.0</td>\n",
              "      <td>0.0</td>\n",
              "      <td>0.0</td>\n",
              "      <td>0.014014</td>\n",
              "      <td>346.000000</td>\n",
              "      <td>0.000000</td>\n",
              "      <td>0.021053</td>\n",
              "      <td>0.000000</td>\n",
              "      <td>0.0</td>\n",
              "      <td>0.909091</td>\n",
              "      <td>0.111111</td>\n",
              "      <td>0.111111</td>\n",
              "      <td>0.222222</td>\n",
              "      <td>0.526316</td>\n",
              "      <td>0</td>\n",
              "      <td>False</td>\n",
              "      <td>1</td>\n",
              "      <td>0</td>\n",
              "      <td>0</td>\n",
              "    </tr>\n",
              "    <tr>\n",
              "      <th>12329</th>\n",
              "      <td>0.00</td>\n",
              "      <td>0.0</td>\n",
              "      <td>0.0</td>\n",
              "      <td>0.0</td>\n",
              "      <td>0.002002</td>\n",
              "      <td>21.250000</td>\n",
              "      <td>0.000000</td>\n",
              "      <td>0.066667</td>\n",
              "      <td>0.000000</td>\n",
              "      <td>0.0</td>\n",
              "      <td>0.909091</td>\n",
              "      <td>0.222222</td>\n",
              "      <td>0.111111</td>\n",
              "      <td>0.000000</td>\n",
              "      <td>0.052632</td>\n",
              "      <td>1</td>\n",
              "      <td>False</td>\n",
              "      <td>0</td>\n",
              "      <td>1</td>\n",
              "      <td>0</td>\n",
              "    </tr>\n",
              "  </tbody>\n",
              "</table>\n",
              "<p>12330 rows × 20 columns</p>\n",
              "</div>"
            ],
            "text/plain": [
              "       Administrative  Administrative_Duration  ...  VisitorType_2  VisitorType_3\n",
              "0                0.00                      0.0  ...              0              0\n",
              "1                0.00                      0.0  ...              0              0\n",
              "2                0.00                      0.0  ...              0              0\n",
              "3                0.00                      0.0  ...              0              0\n",
              "4                0.00                      0.0  ...              0              0\n",
              "...               ...                      ...  ...            ...            ...\n",
              "12325            0.06                    145.0  ...              0              0\n",
              "12326            0.00                      0.0  ...              0              0\n",
              "12327            0.00                      0.0  ...              0              0\n",
              "12328            0.08                     75.0  ...              0              0\n",
              "12329            0.00                      0.0  ...              1              0\n",
              "\n",
              "[12330 rows x 20 columns]"
            ]
          },
          "metadata": {
            "tags": []
          },
          "execution_count": 136
        }
      ]
    },
    {
      "cell_type": "code",
      "metadata": {
        "id": "OPwvN6FyXx7C",
        "colab_type": "code",
        "outputId": "c2e80ce9-b829-449f-8cd4-340f5f7d26f8",
        "colab": {
          "base_uri": "https://localhost:8080/",
          "height": 410
        }
      },
      "source": [
        "data_1.isna().sum()"
      ],
      "execution_count": 137,
      "outputs": [
        {
          "output_type": "execute_result",
          "data": {
            "text/plain": [
              "Administrative             0\n",
              "Administrative_Duration    0\n",
              "Informational              0\n",
              "Informational_Duration     0\n",
              "ProductRelated             0\n",
              "ProductRelated_Duration    0\n",
              "BounceRates                0\n",
              "ExitRates                  0\n",
              "PageValues                 0\n",
              "SpecialDay                 0\n",
              "Month                      0\n",
              "OperatingSystems           0\n",
              "Browser                    0\n",
              "Region                     0\n",
              "TrafficType                0\n",
              "Weekend                    0\n",
              "Revenue                    0\n",
              "VisitorType_1              0\n",
              "VisitorType_2              0\n",
              "VisitorType_3              0\n",
              "dtype: int64"
            ]
          },
          "metadata": {
            "tags": []
          },
          "execution_count": 137
        }
      ]
    },
    {
      "cell_type": "code",
      "metadata": {
        "id": "sYspNfthYbH-",
        "colab_type": "code",
        "outputId": "fb152058-65c1-495f-949a-9ebdd222f157",
        "colab": {
          "base_uri": "https://localhost:8080/",
          "height": 129
        }
      },
      "source": [
        "data_1.columns"
      ],
      "execution_count": 138,
      "outputs": [
        {
          "output_type": "execute_result",
          "data": {
            "text/plain": [
              "Index(['Administrative', 'Administrative_Duration', 'Informational',\n",
              "       'Informational_Duration', 'ProductRelated', 'ProductRelated_Duration',\n",
              "       'BounceRates', 'ExitRates', 'PageValues', 'SpecialDay', 'Month',\n",
              "       'OperatingSystems', 'Browser', 'Region', 'TrafficType', 'Weekend',\n",
              "       'Revenue', 'VisitorType_1', 'VisitorType_2', 'VisitorType_3'],\n",
              "      dtype='object')"
            ]
          },
          "metadata": {
            "tags": []
          },
          "execution_count": 138
        }
      ]
    },
    {
      "cell_type": "code",
      "metadata": {
        "id": "3Fd16a7HZgh4",
        "colab_type": "code",
        "outputId": "94d7f978-d33b-4b15-904b-8c00cbef75ee",
        "colab": {
          "base_uri": "https://localhost:8080/",
          "height": 73
        }
      },
      "source": [
        "list=data_1['Revenue']\n",
        "list.value_counts()"
      ],
      "execution_count": 139,
      "outputs": [
        {
          "output_type": "execute_result",
          "data": {
            "text/plain": [
              "False    10422\n",
              "True      1908\n",
              "Name: Revenue, dtype: int64"
            ]
          },
          "metadata": {
            "tags": []
          },
          "execution_count": 139
        }
      ]
    },
    {
      "cell_type": "code",
      "metadata": {
        "id": "pZE7ucNFc9e8",
        "colab_type": "code",
        "outputId": "15c7ac8f-82d8-40e7-d5b0-d9c17a4982ae",
        "colab": {
          "base_uri": "https://localhost:8080/",
          "height": 73
        }
      },
      "source": [
        "data_sample=data_1\n",
        "data_sample['Revenue']=X_2['Revenue']\n",
        "data_sample['Revenue'].value_counts()"
      ],
      "execution_count": 140,
      "outputs": [
        {
          "output_type": "execute_result",
          "data": {
            "text/plain": [
              "0    10422\n",
              "1     1908\n",
              "Name: Revenue, dtype: int64"
            ]
          },
          "metadata": {
            "tags": []
          },
          "execution_count": 140
        }
      ]
    },
    {
      "cell_type": "markdown",
      "metadata": {
        "id": "6TOSkPaNC9TM",
        "colab_type": "text"
      },
      "source": [
        "# UnderSampling majority class"
      ]
    },
    {
      "cell_type": "code",
      "metadata": {
        "id": "wlYFdZS2afbG",
        "colab_type": "code",
        "outputId": "d13e57d9-68a2-4414-d455-f4a8129f1bd1",
        "colab": {
          "base_uri": "https://localhost:8080/",
          "height": 536
        }
      },
      "source": [
        "one = len(data_sample[data['Revenue'] == 1]) #minority\n",
        "zero = len(data_sample[data['Revenue'] == 0])  #majority\n",
        "\n",
        "print(one)\n",
        "print(zero)\n",
        "\n",
        "zero_indices = data_sample[data['Revenue'] == 0].index\n",
        "random_indices = np.random.choice(zero_indices,one, replace=False)\n",
        "one_indices = data_sample[data['Revenue'] == 1].index\n",
        "\n",
        "under_sample_indices = np.concatenate([one_indices,random_indices])\n",
        "under_sample = data_sample.loc[under_sample_indices]\n",
        "\n",
        "plt.plot(figsize=(6,6))\n",
        "sns.countplot(data_sample['Revenue'], data=under_sample)\n",
        "under_sample['Revenue'].value_counts()"
      ],
      "execution_count": 141,
      "outputs": [
        {
          "output_type": "stream",
          "text": [
            "1908\n",
            "10422\n"
          ],
          "name": "stdout"
        },
        {
          "output_type": "execute_result",
          "data": {
            "text/plain": [
              "1    1908\n",
              "0    1908\n",
              "Name: Revenue, dtype: int64"
            ]
          },
          "metadata": {
            "tags": []
          },
          "execution_count": 141
        },
        {
          "output_type": "display_data",
          "data": {
            "image/png": "[encoded data removed]",
            "text/plain": [
              "<Figure size 504x504 with 1 Axes>"
            ]
          },
          "metadata": {
            "tags": []
          }
        }
      ]
    },
    {
      "cell_type": "markdown",
      "metadata": {
        "id": "9-ne41GUDCJy",
        "colab_type": "text"
      },
      "source": [
        "# Finding Most Impotant Features"
      ]
    },
    {
      "cell_type": "code",
      "metadata": {
        "id": "k4VgS1SNgC_x",
        "colab_type": "code",
        "outputId": "3c1d748e-445f-41f1-d8e0-e8937ba71ffb",
        "colab": {
          "base_uri": "https://localhost:8080/",
          "height": 560
        }
      },
      "source": [
        "from sklearn.ensemble import ExtraTreesClassifier\n",
        "import matplotlib.pyplot as plt\n",
        "label1= ['Administrative', 'Administrative_Duration', 'Informational',\n",
        "       'Informational_Duration', 'ProductRelated', 'ProductRelated_Duration',\n",
        "       'BounceRates', 'ExitRates', 'PageValues', 'SpecialDay', 'Month',\n",
        "       'OperatingSystems', 'Browser', 'Region', 'TrafficType', 'Weekend',\n",
        "       'VisitorType_1', 'VisitorType_2', 'VisitorType_3']\n",
        "X=under_sample[label1]\n",
        "Y=under_sample['Revenue']\n",
        "model = ExtraTreesClassifier()\n",
        "model.fit(X,Y)\n",
        "print(model.feature_importances_) #use inbuilt class feature_importances of tree based classifiers\n",
        "#plot graph of feature importances for better visualization\n",
        "feat_importances = pd.Series(model.feature_importances_, index=X.columns)\n",
        "feat_importances.nlargest(10).plot(kind='barh')\n",
        "plt.show()"
      ],
      "execution_count": 142,
      "outputs": [
        {
          "output_type": "stream",
          "text": [
            "/usr/local/lib/python3.6/dist-packages/sklearn/ensemble/forest.py:245: FutureWarning: The default value of n_estimators will change from 10 in version 0.20 to 100 in 0.22.\n",
            "  \"10 in version 0.20 to 100 in 0.22.\", FutureWarning)\n"
          ],
          "name": "stderr"
        },
        {
          "output_type": "stream",
          "text": [
            "[0.06301642 0.04821759 0.03025919 0.02982049 0.0697413  0.07198113\n",
            " 0.05908449 0.09907024 0.27415846 0.00876215 0.06540528 0.03107109\n",
            " 0.02880933 0.04125301 0.0432415  0.01459102 0.00982845 0.01126255\n",
            " 0.00042632]\n"
          ],
          "name": "stdout"
        },
        {
          "output_type": "display_data",
          "data": {
            "image/png": "[encoded data removed]",
            "text/plain": [
              "<Figure size 504x504 with 1 Axes>"
            ]
          },
          "metadata": {
            "tags": []
          }
        }
      ]
    },
    {
      "cell_type": "markdown",
      "metadata": {
        "id": "4JqJi2Jtyum9",
        "colab_type": "text"
      },
      "source": [
        "#1: Linear Classifier: SVM for Sampled Data"
      ]
    },
    {
      "cell_type": "code",
      "metadata": {
        "id": "Qi3_tp-Iv1am",
        "colab_type": "code",
        "colab": {}
      },
      "source": [
        "from sklearn.linear_model import SGDClassifier\n",
        "from sklearn import tree\n",
        "from sklearn.model_selection import cross_val_score\n",
        "from sklearn import metrics\n",
        "label= ['Administrative', 'Administrative_Duration', 'Informational',\n",
        "       'Informational_Duration', 'ProductRelated', 'ProductRelated_Duration',\n",
        "       'BounceRates', 'ExitRates', 'PageValues', 'SpecialDay', 'Month',\n",
        "        'Region', 'TrafficType',\n",
        "       'VisitorType_1', 'VisitorType_2', 'VisitorType_3']\n",
        "X1=under_sample[label]\n",
        "Y1=under_sample['Revenue']\n",
        "X_train, X_test, y_train, y_test = train_test_split(X1, Y1, test_size=0.4) \n",
        "\n",
        "clf1 = SGDClassifier(loss=\"hinge\", alpha=0.01, max_iter=200,\n",
        "                    fit_intercept=True, tol=1e-3)\n",
        "\n",
        "clf1 = clf1.fit(X_train,y_train)\n",
        "scores=cross_val_score(clf1, X1, Y1, cv=10)\n",
        "y_train_pred = clf1.predict(X_test)\n",
        "svm_score=scores\n",
        "svm_acc=metrics.accuracy_score(y_test, y_train_pred)"
      ],
      "execution_count": 0,
      "outputs": []
    },
    {
      "cell_type": "code",
      "metadata": {
        "id": "GRoXQnhzyHPd",
        "colab_type": "code",
        "outputId": "2b72e4d4-98ad-4066-c115-035b1cd280d7",
        "colab": {
          "base_uri": "https://localhost:8080/",
          "height": 723
        }
      },
      "source": [
        "\n",
        "print(\"Accuracy:\",svm_acc)\n",
        "print(\"Confusion Matrix:\\n\",metrics.confusion_matrix(y_test, y_train_pred))\n",
        "print(metrics.classification_report(y_test, y_train_pred))\n",
        "fpr1, tpr1, threshold=metrics.roc_curve(y_test, y_train_pred)\n",
        "auc = roc_auc_score(y_test, y_train_pred)\n",
        "print(\"Area under curve:\",auc)\n",
        "svmauc=auc\n",
        "plt.plot(fpr1, tpr1)\n",
        "# axis labels\n",
        "plt.xlabel('False Positive Rate')\n",
        "plt.ylabel('True Positive Rate')\n",
        "# show the legend\n",
        "plt.legend()\n",
        "# show the plot\n",
        "plt.show()"
      ],
      "execution_count": 144,
      "outputs": [
        {
          "output_type": "stream",
          "text": [
            "No handles with labels found to put in legend.\n"
          ],
          "name": "stderr"
        },
        {
          "output_type": "stream",
          "text": [
            "Accuracy: 0.5481335952848723\n",
            "Confusion Matrix:\n",
            " [[109 674]\n",
            " [ 16 728]]\n",
            "              precision    recall  f1-score   support\n",
            "\n",
            "           0       0.87      0.14      0.24       783\n",
            "           1       0.52      0.98      0.68       744\n",
            "\n",
            "    accuracy                           0.55      1527\n",
            "   macro avg       0.70      0.56      0.46      1527\n",
            "weighted avg       0.70      0.55      0.45      1527\n",
            "\n",
            "Area under curve: 0.5588513986734231\n"
          ],
          "name": "stdout"
        },
        {
          "output_type": "display_data",
          "data": {
            "image/png": "[encoded data removed]",
            "text/plain": [
              "<Figure size 504x504 with 1 Axes>"
            ]
          },
          "metadata": {
            "tags": []
          }
        }
      ]
    },
    {
      "cell_type": "markdown",
      "metadata": {
        "id": "c25D1nF7voNM",
        "colab_type": "text"
      },
      "source": [
        "# 2: Tree Based: Decision Tree on Sampled Dataset"
      ]
    },
    {
      "cell_type": "code",
      "metadata": {
        "id": "i487GDrkrGR-",
        "colab_type": "code",
        "outputId": "1793f18c-91ca-4fd8-ac8e-4544621b3f17",
        "colab": {
          "base_uri": "https://localhost:8080/",
          "height": 723
        }
      },
      "source": [
        "clf = tree.DecisionTreeClassifier(random_state=1)\n",
        "X3=under_sample[label]\n",
        "Y3=under_sample['Revenue']\n",
        "X_train, X_test, y_train, y_test = train_test_split(X3, Y3, test_size=0.4) \n",
        "clf = clf.fit(X_train,y_train)\n",
        "scores=cross_val_score(clf, X3, Y3, cv=10)\n",
        "y_pred = clf.predict(X_test)\n",
        "dt_scores=scores\n",
        "dt_acc=metrics.accuracy_score(y_test, y_train_pred)\n",
        "print(\"Accuracy:\",dt_acc*100,\"%\")\n",
        "print(\"Confusion Matrix:\\n\",metrics.confusion_matrix(y_test, y_pred))\n",
        "print(metrics.classification_report(y_test, y_pred))\n",
        "fpr2, tpr2, threshold=metrics.roc_curve(y_test, y_pred)\n",
        "auc = roc_auc_score(y_test, y_pred)\n",
        "print(\"Area under curve:\",auc)\n",
        "dtauc=auc\n",
        "plt.plot(fpr2, tpr2)\n",
        "# axis labels\n",
        "plt.xlabel('False Positive Rate')\n",
        "plt.ylabel('True Positive Rate')\n",
        "# show the legend\n",
        "plt.legend()\n",
        "# show the plot\n",
        "plt.show()"
      ],
      "execution_count": 145,
      "outputs": [
        {
          "output_type": "stream",
          "text": [
            "No handles with labels found to put in legend.\n"
          ],
          "name": "stderr"
        },
        {
          "output_type": "stream",
          "text": [
            "Accuracy: 51.47347740667977 %\n",
            "Confusion Matrix:\n",
            " [[584 174]\n",
            " [167 602]]\n",
            "              precision    recall  f1-score   support\n",
            "\n",
            "           0       0.78      0.77      0.77       758\n",
            "           1       0.78      0.78      0.78       769\n",
            "\n",
            "    accuracy                           0.78      1527\n",
            "   macro avg       0.78      0.78      0.78      1527\n",
            "weighted avg       0.78      0.78      0.78      1527\n",
            "\n",
            "Area under curve: 0.7766416996339007\n"
          ],
          "name": "stdout"
        },
        {
          "output_type": "display_data",
          "data": {
            "image/png": "[encoded data removed]",
            "text/plain": [
              "<Figure size 504x504 with 1 Axes>"
            ]
          },
          "metadata": {
            "tags": []
          }
        }
      ]
    },
    {
      "cell_type": "markdown",
      "metadata": {
        "id": "wbuIwQ1iDF7W",
        "colab_type": "text"
      },
      "source": [
        "# 3: Distance Based: KNN on Sampled Dataset"
      ]
    },
    {
      "cell_type": "code",
      "metadata": {
        "id": "6P30PfI8DNar",
        "colab_type": "code",
        "outputId": "fed2fc46-e5cd-46d0-c789-dbb232f7d097",
        "colab": {
          "base_uri": "https://localhost:8080/",
          "height": 723
        }
      },
      "source": [
        "from sklearn.neighbors import KNeighborsClassifier\n",
        "model1 = KNeighborsClassifier(n_neighbors=5)\n",
        "label1= ['Administrative', 'Administrative_Duration', 'Informational',\n",
        "       'Informational_Duration', 'ProductRelated', 'ProductRelated_Duration',\n",
        "       'BounceRates', 'ExitRates', 'PageValues', 'SpecialDay', 'Month',\n",
        "       'OperatingSystems', 'Browser', 'Region', 'TrafficType', 'Weekend',\n",
        "       'VisitorType_1', 'VisitorType_2', 'VisitorType_3']\n",
        "\n",
        "X=under_sample[label]\n",
        "Y=under_sample['Revenue']\n",
        "X_train, X_test, y_train, y_test = train_test_split(X, Y, test_size=0.4)\n",
        "model1 = model1.fit(X_train,y_train)\n",
        "scores=cross_val_score(model1, X, Y, cv=10)\n",
        "knn_score=scores\n",
        "y_pred = model1.predict(X_test)\n",
        "print(\"Accuracy:\",metrics.accuracy_score(y_test, y_pred))\n",
        "print(\"Confusion Matrix:\\n\",metrics.confusion_matrix(y_test, y_pred))\n",
        "print(metrics.classification_report(y_test, y_pred))\n",
        "fpr3, tpr3, threshold=metrics.roc_curve(y_test, y_pred)\n",
        "auc = roc_auc_score(y_test, y_pred)\n",
        "print(\"Area under curve:\",auc)\n",
        "knnauc=auc\n",
        "plt.plot(fpr3, tpr3)\n",
        "# axis labels\n",
        "plt.xlabel('False Positive Rate')\n",
        "plt.ylabel('True Positive Rate')\n",
        "# show the legend\n",
        "plt.legend()\n",
        "# show the plot\n",
        "plt.show()"
      ],
      "execution_count": 146,
      "outputs": [
        {
          "output_type": "stream",
          "text": [
            "No handles with labels found to put in legend.\n"
          ],
          "name": "stderr"
        },
        {
          "output_type": "stream",
          "text": [
            "Accuracy: 0.7079240340537001\n",
            "Confusion Matrix:\n",
            " [[563 189]\n",
            " [257 518]]\n",
            "              precision    recall  f1-score   support\n",
            "\n",
            "           0       0.69      0.75      0.72       752\n",
            "           1       0.73      0.67      0.70       775\n",
            "\n",
            "    accuracy                           0.71      1527\n",
            "   macro avg       0.71      0.71      0.71      1527\n",
            "weighted avg       0.71      0.71      0.71      1527\n",
            "\n",
            "Area under curve: 0.7085286547700755\n"
          ],
          "name": "stdout"
        },
        {
          "output_type": "display_data",
          "data": {
            "image/png": "[encoded data removed]",
            "text/plain": [
              "<Figure size 504x504 with 1 Axes>"
            ]
          },
          "metadata": {
            "tags": []
          }
        }
      ]
    },
    {
      "cell_type": "code",
      "metadata": {
        "id": "QKXsi1t0XfdZ",
        "colab_type": "code",
        "outputId": "3e8f6096-3211-4179-daf3-85e90e44caea",
        "colab": {
          "base_uri": "https://localhost:8080/",
          "height": 36
        }
      },
      "source": [
        "\n",
        "model = KNeighborsClassifier(n_neighbors=5)\n",
        "\n",
        "X=data_1[label]\n",
        "Y=data_1['Revenue']\n",
        "X_train, X_test, y_train, y_test = train_test_split(X, Y, test_size=0.4) \n",
        "model = model.fit(X_train,y_train)\n",
        "scores=cross_val_score(model, X, Y, cv=10)\n",
        "y_pred = model.predict(X_test)\n",
        "print(\"Accuracy:\",metrics.accuracy_score(y_test, y_pred))"
      ],
      "execution_count": 147,
      "outputs": [
        {
          "output_type": "stream",
          "text": [
            "Accuracy: 0.860705596107056\n"
          ],
          "name": "stdout"
        }
      ]
    },
    {
      "cell_type": "code",
      "metadata": {
        "id": "QUeRzd1SZMyt",
        "colab_type": "code",
        "outputId": "2e82c505-3407-44b9-f7c7-5b450415abe3",
        "colab": {
          "base_uri": "https://localhost:8080/",
          "height": 36
        }
      },
      "source": [
        "model1 = KNeighborsClassifier(n_neighbors=3)\n",
        "label= ['Administrative', 'Administrative_Duration',\n",
        "       'Informational_Duration', 'ProductRelated', 'ProductRelated_Duration',\n",
        "       'BounceRates', 'ExitRates', 'PageValues', 'SpecialDay', 'Month',\n",
        "        'Region', 'VisitorType_2']\n",
        "X=under_sample[label]\n",
        "Y=under_sample['Revenue']\n",
        "X_train, X_test, y_train, y_test = train_test_split(X, Y, test_size=0.4)\n",
        "model1 = model1.fit(X_train,y_train)\n",
        "scores=cross_val_score(model1, X, Y, cv=10)\n",
        "y_pred = model1.predict(X_test)\n",
        "knn_acc=metrics.accuracy_score(y_test, y_train_pred)\n",
        "print(\"Accuracy:\",knn_acc)"
      ],
      "execution_count": 148,
      "outputs": [
        {
          "output_type": "stream",
          "text": [
            "Accuracy: 0.5199738048461034\n"
          ],
          "name": "stdout"
        }
      ]
    },
    {
      "cell_type": "markdown",
      "metadata": {
        "id": "BxJSAyVQIyv0",
        "colab_type": "text"
      },
      "source": [
        "# 4: Rule Based: Dummy Classifier"
      ]
    },
    {
      "cell_type": "code",
      "metadata": {
        "id": "SZaq2S2HIyM9",
        "colab_type": "code",
        "outputId": "f49aaa9a-b67b-4476-8305-5066a853d705",
        "colab": {
          "base_uri": "https://localhost:8080/",
          "height": 761
        }
      },
      "source": [
        "from sklearn.dummy import DummyClassifier\n",
        "\n",
        "X=under_sample[label]\n",
        "Y=under_sample['Revenue']\n",
        "X_train, X_test, y_train, y_test = train_test_split(X, Y, test_size=0.4) \n",
        "dummy_classifier = DummyClassifier(strategy=\"most_frequent\")\n",
        "dummy_classifier.fit( X,Y )\n",
        "model = model.fit(X_train,y_train)\n",
        "scores=cross_val_score(model, X, Y, cv=10)\n",
        "y_pred = model.predict(X_test)\n",
        "rule_scores=scores\n",
        "rule_acc=metrics.accuracy_score(y_test, y_train_pred)\n",
        "print(\"Accuracy:\",rule_acc)\n",
        "print(\"Confusion Matrix:\\n\",metrics.confusion_matrix(y_test, y_pred))\n",
        "print(metrics.classification_report(y_test, y_pred))\n",
        "print(metrics.roc_curve(y_test, y_pred))\n",
        "fpr4, tpr4, threshold=metrics.roc_curve(y_test, y_pred)\n",
        "auc = roc_auc_score(y_test, y_pred)\n",
        "print(\"Area under curve:\",auc)\n",
        "rbauc=auc\n",
        "plt.plot(fpr4, tpr4)\n",
        "plt.xlabel('False Positive Rate')\n",
        "plt.ylabel('True Positive Rate')\n",
        "plt.legend()\n",
        "plt.show()"
      ],
      "execution_count": 149,
      "outputs": [
        {
          "output_type": "stream",
          "text": [
            "No handles with labels found to put in legend.\n"
          ],
          "name": "stderr"
        },
        {
          "output_type": "stream",
          "text": [
            "Accuracy: 0.48330058939096265\n",
            "Confusion Matrix:\n",
            " [[566 208]\n",
            " [241 512]]\n",
            "              precision    recall  f1-score   support\n",
            "\n",
            "           0       0.70      0.73      0.72       774\n",
            "           1       0.71      0.68      0.70       753\n",
            "\n",
            "    accuracy                           0.71      1527\n",
            "   macro avg       0.71      0.71      0.71      1527\n",
            "weighted avg       0.71      0.71      0.71      1527\n",
            "\n",
            "(array([0.        , 0.26873385, 1.        ]), array([0.        , 0.67994688, 1.        ]), array([2, 1, 0]))\n",
            "Area under curve: 0.7056065145104337\n"
          ],
          "name": "stdout"
        },
        {
          "output_type": "display_data",
          "data": {
            "image/png": "[encoded data removed]",
            "text/plain": [
              "<Figure size 504x504 with 1 Axes>"
            ]
          },
          "metadata": {
            "tags": []
          }
        }
      ]
    },
    {
      "cell_type": "markdown",
      "metadata": {
        "id": "A8Oor8IZvs3k",
        "colab_type": "text"
      },
      "source": [
        "#Naive Bayes on Sampled Dataset"
      ]
    },
    {
      "cell_type": "code",
      "metadata": {
        "id": "Gjly-j67qxPo",
        "colab_type": "code",
        "outputId": "1554bf8f-5bbe-4f4d-c331-bf6bf56f9601",
        "colab": {
          "base_uri": "https://localhost:8080/",
          "height": 761
        }
      },
      "source": [
        "from sklearn.naive_bayes import GaussianNB\n",
        "model_nb = GaussianNB()\n",
        "\n",
        "X2=under_sample[label]\n",
        "Y=under_sample['Revenue']\n",
        "#print(Y)\n",
        "#print(X2)\n",
        "\n",
        "X_train, X_test, y_train, y_test = train_test_split(X2, Y, test_size=0.4) \n",
        "\n",
        "model_nb = model_nb.fit(X_train,y_train)\n",
        "scores=cross_val_score(model_nb, X2, Y, cv=10)\n",
        "y_pred = model_nb.predict(X_test)\n",
        "nb_acc=metrics.accuracy_score(y_test, y_pred)\n",
        "print(\"Accuracy:\",nb_acc)\n",
        "print(\"Confusion Matrix:\\n\",metrics.confusion_matrix(y_test, y_pred))\n",
        "print(metrics.classification_report(y_test, y_pred))\n",
        "print(metrics.roc_curve(y_test, y_pred))\n",
        "fpr5, tpr5, threshold=metrics.roc_curve(y_test, y_pred)\n",
        "auc = roc_auc_score(y_test, y_pred)\n",
        "print(\"Area under curve:\",auc)\n",
        "nbauc=auc\n",
        "plt.plot(fpr5, tpr5)\n",
        "plt.xlabel('False Positive Rate')\n",
        "plt.ylabel('True Positive Rate')\n",
        "plt.legend()\n",
        "plt.show()"
      ],
      "execution_count": 150,
      "outputs": [
        {
          "output_type": "stream",
          "text": [
            "No handles with labels found to put in legend.\n"
          ],
          "name": "stderr"
        },
        {
          "output_type": "stream",
          "text": [
            "Accuracy: 0.7465618860510805\n",
            "Confusion Matrix:\n",
            " [[673  93]\n",
            " [294 467]]\n",
            "              precision    recall  f1-score   support\n",
            "\n",
            "           0       0.70      0.88      0.78       766\n",
            "           1       0.83      0.61      0.71       761\n",
            "\n",
            "    accuracy                           0.75      1527\n",
            "   macro avg       0.76      0.75      0.74      1527\n",
            "weighted avg       0.76      0.75      0.74      1527\n",
            "\n",
            "(array([0.        , 0.12140992, 1.        ]), array([0.        , 0.61366623, 1.        ]), array([2, 1, 0]))\n",
            "Area under curve: 0.7461281534877497\n"
          ],
          "name": "stdout"
        },
        {
          "output_type": "display_data",
          "data": {
            "image/png": "[encoded data removed]",
            "text/plain": [
              "<Figure size 504x504 with 1 Axes>"
            ]
          },
          "metadata": {
            "tags": []
          }
        }
      ]
    },
    {
      "cell_type": "markdown",
      "metadata": {
        "id": "2vrIs7Au0WwA",
        "colab_type": "text"
      },
      "source": [
        "\n",
        "# Bagging Classifier\n",
        "\n"
      ]
    },
    {
      "cell_type": "code",
      "metadata": {
        "id": "-QsU-0M4ygoo",
        "colab_type": "code",
        "outputId": "ab39273a-bc62-4f4a-89f9-9d4f259b8b45",
        "colab": {
          "base_uri": "https://localhost:8080/",
          "height": 741
        }
      },
      "source": [
        "# Bagged Decision Trees for Classification\n",
        "import pandas\n",
        "from sklearn import model_selection\n",
        "from sklearn.ensemble import BaggingClassifier\n",
        "from sklearn.tree import DecisionTreeClassifier\n",
        "X3=under_sample[label]\n",
        "Y3=under_sample['Revenue']\n",
        "seed = 7\n",
        "kfold = model_selection.KFold(n_splits=10, random_state=seed)\n",
        "cart = DecisionTreeClassifier()\n",
        "cart = cart.fit(X_train,y_train)\n",
        "y_pred = cart.predict(X_test)\n",
        "num_trees = 100\n",
        "model = BaggingClassifier(base_estimator=cart, n_estimators=num_trees, random_state=seed)\n",
        "results = model_selection.cross_val_score(model, X3, Y3, cv=kfold)\n",
        "print(results.mean())\n",
        "bag_acc=metrics.accuracy_score(y_test, y_pred)\n",
        "print(\"Accuracy:\",bag_acc)\n",
        "#print(\"Accuracy:\",metrics.accuracy_score(y_test, y_pred))\n",
        "print(\"Confusion Matrix:\\n\",metrics.confusion_matrix(y_test, y_pred))\n",
        "print(metrics.classification_report(y_test, y_pred))\n",
        "fpr6, tpr6, threshold=metrics.roc_curve(y_test, y_pred)\n",
        "auc = roc_auc_score(y_test, y_pred)\n",
        "print(\"Area under curve:\",auc)\n",
        "bagauc=auc\n",
        "plt.plot(fpr6, tpr6)\n",
        "# axis labels\n",
        "plt.xlabel('False Positive Rate')\n",
        "plt.ylabel('True Positive Rate')\n",
        "# show the legend\n",
        "plt.legend()\n",
        "# show the plot\n",
        "plt.show()"
      ],
      "execution_count": 151,
      "outputs": [
        {
          "output_type": "stream",
          "text": [
            "No handles with labels found to put in legend.\n"
          ],
          "name": "stderr"
        },
        {
          "output_type": "stream",
          "text": [
            "0.7508492393948138\n",
            "Accuracy: 0.7910936476751801\n",
            "Confusion Matrix:\n",
            " [[603 163]\n",
            " [156 605]]\n",
            "              precision    recall  f1-score   support\n",
            "\n",
            "           0       0.79      0.79      0.79       766\n",
            "           1       0.79      0.80      0.79       761\n",
            "\n",
            "    accuracy                           0.79      1527\n",
            "   macro avg       0.79      0.79      0.79      1527\n",
            "weighted avg       0.79      0.79      0.79      1527\n",
            "\n",
            "Area under curve: 0.7911064183103858\n"
          ],
          "name": "stdout"
        },
        {
          "output_type": "display_data",
          "data": {
            "image/png": "[encoded data removed]",
            "text/plain": [
              "<Figure size 504x504 with 1 Axes>"
            ]
          },
          "metadata": {
            "tags": []
          }
        }
      ]
    },
    {
      "cell_type": "markdown",
      "metadata": {
        "id": "GgAk1yC4Ga-b",
        "colab_type": "text"
      },
      "source": [
        "# AdaBoost Algorithm - Boosting"
      ]
    },
    {
      "cell_type": "code",
      "metadata": {
        "id": "YSaQmk3604d5",
        "colab_type": "code",
        "outputId": "135dce25-32c7-42d9-d2a3-4661113a7ae4",
        "colab": {
          "base_uri": "https://localhost:8080/",
          "height": 760
        }
      },
      "source": [
        "# AdaBoost Classification\n",
        "from sklearn import model_selection\n",
        "from sklearn.ensemble import AdaBoostClassifier\n",
        "\n",
        "seed = 7\n",
        "num_trees = 30\n",
        "kfold = model_selection.KFold(n_splits=10, random_state=seed)\n",
        "model3 = AdaBoostClassifier(n_estimators=num_trees, random_state=seed)\n",
        "model3 = model3.fit(X_train,y_train)\n",
        "y_pred = model3.predict(X_test)\n",
        "results = model_selection.cross_val_score(model3, X3, Y3, cv=kfold)\n",
        "print(results.mean())\n",
        "boost_acc=metrics.accuracy_score(y_test, y_pred)\n",
        "print(\"Accuracy:\",boost_acc)\n",
        "#print(\"Accuracy:\",metrics.accuracy_score(y_test, y_pred)*100,\"%\")\n",
        "print(\"Confusion Matrix:\\n\",metrics.confusion_matrix(y_test, y_pred))\n",
        "print(metrics.classification_report(y_test, y_pred))\n",
        "fpr7, tpr7, threshold=metrics.roc_curve(y_test, y_pred)\n",
        "auc = roc_auc_score(y_test, y_pred)\n",
        "print(\"Area under curve:\",auc)\n",
        "boostauc=auc\n",
        "plt.plot(fpr7, tpr7)\n",
        "# axis labels\n",
        "plt.xlabel('False Positive Rate')\n",
        "plt.ylabel('True Positive Rate')\n",
        "# show the legend\n",
        "plt.legend()\n",
        "# show the plot\n",
        "plt.show()\n",
        "print(results.mean())"
      ],
      "execution_count": 152,
      "outputs": [
        {
          "output_type": "stream",
          "text": [
            "No handles with labels found to put in legend.\n"
          ],
          "name": "stderr"
        },
        {
          "output_type": "stream",
          "text": [
            "0.761101949952591\n",
            "Accuracy: 0.8330058939096268\n",
            "Confusion Matrix:\n",
            " [[676  90]\n",
            " [165 596]]\n",
            "              precision    recall  f1-score   support\n",
            "\n",
            "           0       0.80      0.88      0.84       766\n",
            "           1       0.87      0.78      0.82       761\n",
            "\n",
            "    accuracy                           0.83      1527\n",
            "   macro avg       0.84      0.83      0.83      1527\n",
            "weighted avg       0.84      0.83      0.83      1527\n",
            "\n",
            "Area under curve: 0.8328432768481763\n"
          ],
          "name": "stdout"
        },
        {
          "output_type": "display_data",
          "data": {
            "image/png": "[encoded data removed]",
            "text/plain": [
              "<Figure size 504x504 with 1 Axes>"
            ]
          },
          "metadata": {
            "tags": []
          }
        },
        {
          "output_type": "stream",
          "text": [
            "0.761101949952591\n"
          ],
          "name": "stdout"
        }
      ]
    },
    {
      "cell_type": "markdown",
      "metadata": {
        "id": "Nomjm7gQFmm8",
        "colab_type": "text"
      },
      "source": [
        "#Ensemble1: RandomForest "
      ]
    },
    {
      "cell_type": "code",
      "metadata": {
        "id": "j90sJDTr0tUw",
        "colab_type": "code",
        "outputId": "84d2a4f1-5fe0-4d21-c9c9-0930f52275d5",
        "colab": {
          "base_uri": "https://localhost:8080/",
          "height": 741
        }
      },
      "source": [
        "from sklearn import model_selection\n",
        "from sklearn.ensemble import RandomForestClassifier\n",
        "\n",
        "seed = 7\n",
        "num_trees = 100\n",
        "max_features = 3\n",
        "kfold = model_selection.KFold(n_splits=10, random_state=seed)\n",
        "model2 = RandomForestClassifier(n_estimators=num_trees, max_features=max_features)\n",
        "results = model_selection.cross_val_score(model2, X3, Y3, cv=kfold)\n",
        "rf_score=results\n",
        "model2 = model2.fit(X_train,y_train)\n",
        "y_pred = model2.predict(X_test)\n",
        "rf_acc=metrics.accuracy_score(y_test, y_pred)\n",
        "print(\"Accuracy:\",rf_acc)\n",
        "#print(\"Accuracy:\",metrics.accuracy_score(y_test, y_pred)*100,\"%\")\n",
        "print(\"Confusion Matrix:\\n\",metrics.confusion_matrix(y_test, y_pred))\n",
        "print(metrics.classification_report(y_test, y_pred))\n",
        "fpr8, tpr8, threshold=metrics.roc_curve(y_test, y_pred)\n",
        "auc = roc_auc_score(y_test, y_pred)\n",
        "print(\"Area under curve:\",auc)\n",
        "rfauc=auc\n",
        "plt.plot(fpr, tpr)\n",
        "# axis labels\n",
        "plt.xlabel('False Positive Rate')\n",
        "plt.ylabel('True Positive Rate')\n",
        "# show the legend\n",
        "plt.legend()\n",
        "# show the plot\n",
        "plt.show()\n",
        "print(results.mean())"
      ],
      "execution_count": 153,
      "outputs": [
        {
          "output_type": "stream",
          "text": [
            "No handles with labels found to put in legend.\n"
          ],
          "name": "stderr"
        },
        {
          "output_type": "stream",
          "text": [
            "Accuracy: 0.8487229862475442\n",
            "Confusion Matrix:\n",
            " [[655 111]\n",
            " [120 641]]\n",
            "              precision    recall  f1-score   support\n",
            "\n",
            "           0       0.85      0.86      0.85       766\n",
            "           1       0.85      0.84      0.85       761\n",
            "\n",
            "    accuracy                           0.85      1527\n",
            "   macro avg       0.85      0.85      0.85      1527\n",
            "weighted avg       0.85      0.85      0.85      1527\n",
            "\n",
            "Area under curve: 0.8487020650991721\n"
          ],
          "name": "stdout"
        },
        {
          "output_type": "display_data",
          "data": {
            "image/png": "[encoded data removed]",
            "text/plain": [
              "<Figure size 504x504 with 1 Axes>"
            ]
          },
          "metadata": {
            "tags": []
          }
        },
        {
          "output_type": "stream",
          "text": [
            "0.7597586950845804\n"
          ],
          "name": "stdout"
        }
      ]
    },
    {
      "cell_type": "markdown",
      "metadata": {
        "id": "qDrLa5FMGo0D",
        "colab_type": "text"
      },
      "source": [
        "#Ensemble2: Logistic Regression | Decision Tree | SVM"
      ]
    },
    {
      "cell_type": "code",
      "metadata": {
        "id": "lqvwHEdn1Km-",
        "colab_type": "code",
        "outputId": "617ab85e-c2c5-449d-ec18-a1ffc5c4f771",
        "colab": {
          "base_uri": "https://localhost:8080/",
          "height": 1000
        }
      },
      "source": [
        "# Voting Ensemble for Classification\n",
        "\n",
        "from sklearn.linear_model import LogisticRegression\n",
        "from sklearn.tree import DecisionTreeClassifier\n",
        "from sklearn.svm import SVC\n",
        "from sklearn.ensemble import VotingClassifier\n",
        "\n",
        "seed = 7\n",
        "kfold = model_selection.KFold(n_splits=10, random_state=seed)\n",
        "# create the sub models\n",
        "estimators = []\n",
        "model11 = LogisticRegression()\n",
        "estimators.append(('logistic', model11))\n",
        "model21 = DecisionTreeClassifier()\n",
        "estimators.append(('cart', model21))\n",
        "model31 = SVC()\n",
        "estimators.append(('svm', model31))\n",
        "# create the ensemble model\n",
        "ensemble = VotingClassifier(estimators)\n",
        "results = model_selection.cross_val_score(ensemble, X3, Y3, cv=kfold)\n",
        "ensemble = model3.fit(X_train,y_train)\n",
        "y_pred = ensemble.predict(X_test)\n",
        "print(results.mean())\n",
        "e2_acc=metrics.accuracy_score(y_test, y_pred)\n",
        "print(\"Accuracy:\",e2_acc)\n",
        "#print(\"Accuracy:\",metrics.accuracy_score(y_test, y_pred)*100,\"%\")\n",
        "print(\"Confusion Matrix:\\n\",metrics.confusion_matrix(y_test, y_pred))\n",
        "print(metrics.classification_report(y_test, y_pred))\n",
        "fpr9, tpr9, threshold=metrics.roc_curve(y_test, y_pred)\n",
        "auc = roc_auc_score(y_test, y_pred)\n",
        "e2auc=auc\n",
        "print(\"Area under curve:\",auc)\n",
        "plt.plot(fpr1, tpr1)\n",
        "# axis labels\n",
        "plt.xlabel('False Positive Rate')\n",
        "plt.ylabel('True Positive Rate')\n",
        "# show the legend\n",
        "plt.legend()\n",
        "# show the plot\n",
        "plt.show()\n",
        "print(results.mean())\n"
      ],
      "execution_count": 154,
      "outputs": [
        {
          "output_type": "stream",
          "text": [
            "/usr/local/lib/python3.6/dist-packages/sklearn/linear_model/logistic.py:432: FutureWarning: Default solver will be changed to 'lbfgs' in 0.22. Specify a solver to silence this warning.\n",
            "  FutureWarning)\n",
            "/usr/local/lib/python3.6/dist-packages/sklearn/svm/base.py:193: FutureWarning: The default value of gamma will change from 'auto' to 'scale' in version 0.22 to account better for unscaled features. Set gamma explicitly to 'auto' or 'scale' to avoid this warning.\n",
            "  \"avoid this warning.\", FutureWarning)\n",
            "/usr/local/lib/python3.6/dist-packages/sklearn/linear_model/logistic.py:432: FutureWarning: Default solver will be changed to 'lbfgs' in 0.22. Specify a solver to silence this warning.\n",
            "  FutureWarning)\n",
            "/usr/local/lib/python3.6/dist-packages/sklearn/svm/base.py:193: FutureWarning: The default value of gamma will change from 'auto' to 'scale' in version 0.22 to account better for unscaled features. Set gamma explicitly to 'auto' or 'scale' to avoid this warning.\n",
            "  \"avoid this warning.\", FutureWarning)\n",
            "/usr/local/lib/python3.6/dist-packages/sklearn/linear_model/logistic.py:432: FutureWarning: Default solver will be changed to 'lbfgs' in 0.22. Specify a solver to silence this warning.\n",
            "  FutureWarning)\n",
            "/usr/local/lib/python3.6/dist-packages/sklearn/svm/base.py:193: FutureWarning: The default value of gamma will change from 'auto' to 'scale' in version 0.22 to account better for unscaled features. Set gamma explicitly to 'auto' or 'scale' to avoid this warning.\n",
            "  \"avoid this warning.\", FutureWarning)\n",
            "/usr/local/lib/python3.6/dist-packages/sklearn/linear_model/logistic.py:432: FutureWarning: Default solver will be changed to 'lbfgs' in 0.22. Specify a solver to silence this warning.\n",
            "  FutureWarning)\n",
            "/usr/local/lib/python3.6/dist-packages/sklearn/svm/base.py:193: FutureWarning: The default value of gamma will change from 'auto' to 'scale' in version 0.22 to account better for unscaled features. Set gamma explicitly to 'auto' or 'scale' to avoid this warning.\n",
            "  \"avoid this warning.\", FutureWarning)\n",
            "/usr/local/lib/python3.6/dist-packages/sklearn/linear_model/logistic.py:432: FutureWarning: Default solver will be changed to 'lbfgs' in 0.22. Specify a solver to silence this warning.\n",
            "  FutureWarning)\n",
            "/usr/local/lib/python3.6/dist-packages/sklearn/svm/base.py:193: FutureWarning: The default value of gamma will change from 'auto' to 'scale' in version 0.22 to account better for unscaled features. Set gamma explicitly to 'auto' or 'scale' to avoid this warning.\n",
            "  \"avoid this warning.\", FutureWarning)\n",
            "/usr/local/lib/python3.6/dist-packages/sklearn/linear_model/logistic.py:432: FutureWarning: Default solver will be changed to 'lbfgs' in 0.22. Specify a solver to silence this warning.\n",
            "  FutureWarning)\n",
            "/usr/local/lib/python3.6/dist-packages/sklearn/svm/base.py:193: FutureWarning: The default value of gamma will change from 'auto' to 'scale' in version 0.22 to account better for unscaled features. Set gamma explicitly to 'auto' or 'scale' to avoid this warning.\n",
            "  \"avoid this warning.\", FutureWarning)\n",
            "/usr/local/lib/python3.6/dist-packages/sklearn/linear_model/logistic.py:432: FutureWarning: Default solver will be changed to 'lbfgs' in 0.22. Specify a solver to silence this warning.\n",
            "  FutureWarning)\n",
            "/usr/local/lib/python3.6/dist-packages/sklearn/svm/base.py:193: FutureWarning: The default value of gamma will change from 'auto' to 'scale' in version 0.22 to account better for unscaled features. Set gamma explicitly to 'auto' or 'scale' to avoid this warning.\n",
            "  \"avoid this warning.\", FutureWarning)\n",
            "/usr/local/lib/python3.6/dist-packages/sklearn/linear_model/logistic.py:432: FutureWarning: Default solver will be changed to 'lbfgs' in 0.22. Specify a solver to silence this warning.\n",
            "  FutureWarning)\n",
            "/usr/local/lib/python3.6/dist-packages/sklearn/svm/base.py:193: FutureWarning: The default value of gamma will change from 'auto' to 'scale' in version 0.22 to account better for unscaled features. Set gamma explicitly to 'auto' or 'scale' to avoid this warning.\n",
            "  \"avoid this warning.\", FutureWarning)\n",
            "/usr/local/lib/python3.6/dist-packages/sklearn/linear_model/logistic.py:432: FutureWarning: Default solver will be changed to 'lbfgs' in 0.22. Specify a solver to silence this warning.\n",
            "  FutureWarning)\n",
            "/usr/local/lib/python3.6/dist-packages/sklearn/svm/base.py:193: FutureWarning: The default value of gamma will change from 'auto' to 'scale' in version 0.22 to account better for unscaled features. Set gamma explicitly to 'auto' or 'scale' to avoid this warning.\n",
            "  \"avoid this warning.\", FutureWarning)\n",
            "/usr/local/lib/python3.6/dist-packages/sklearn/linear_model/logistic.py:432: FutureWarning: Default solver will be changed to 'lbfgs' in 0.22. Specify a solver to silence this warning.\n",
            "  FutureWarning)\n",
            "/usr/local/lib/python3.6/dist-packages/sklearn/svm/base.py:193: FutureWarning: The default value of gamma will change from 'auto' to 'scale' in version 0.22 to account better for unscaled features. Set gamma explicitly to 'auto' or 'scale' to avoid this warning.\n",
            "  \"avoid this warning.\", FutureWarning)\n",
            "No handles with labels found to put in legend.\n"
          ],
          "name": "stderr"
        },
        {
          "output_type": "stream",
          "text": [
            "0.7615403113877781\n",
            "Accuracy: 0.8330058939096268\n",
            "Confusion Matrix:\n",
            " [[676  90]\n",
            " [165 596]]\n",
            "              precision    recall  f1-score   support\n",
            "\n",
            "           0       0.80      0.88      0.84       766\n",
            "           1       0.87      0.78      0.82       761\n",
            "\n",
            "    accuracy                           0.83      1527\n",
            "   macro avg       0.84      0.83      0.83      1527\n",
            "weighted avg       0.84      0.83      0.83      1527\n",
            "\n",
            "Area under curve: 0.8328432768481763\n"
          ],
          "name": "stdout"
        },
        {
          "output_type": "display_data",
          "data": {
            "image/png": "[encoded data removed]",
            "text/plain": [
              "<Figure size 504x504 with 1 Axes>"
            ]
          },
          "metadata": {
            "tags": []
          }
        },
        {
          "output_type": "stream",
          "text": [
            "0.7615403113877781\n"
          ],
          "name": "stdout"
        }
      ]
    },
    {
      "cell_type": "markdown",
      "metadata": {
        "id": "p7I2DMepGCfQ",
        "colab_type": "text"
      },
      "source": [
        "# Ensemble3: Random Forest | Boosting |Decision Tree"
      ]
    },
    {
      "cell_type": "code",
      "metadata": {
        "id": "GWDTmRbU1ZSd",
        "colab_type": "code",
        "outputId": "2082ccde-6d30-47e6-ba53-f2cc258ec5d4",
        "colab": {
          "base_uri": "https://localhost:8080/",
          "height": 760
        }
      },
      "source": [
        "# Voting Ensemble for Classification\n",
        "\n",
        "from sklearn.linear_model import LogisticRegression\n",
        "from sklearn.tree import DecisionTreeClassifier\n",
        "from sklearn.svm import SVC\n",
        "from sklearn.ensemble import VotingClassifier\n",
        "\n",
        "seed = 7\n",
        "kfold = model_selection.KFold(n_splits=10, random_state=seed)\n",
        "# create the sub models\n",
        "estimators = []\n",
        "model12 = RandomForestClassifier(n_estimators=num_trees, max_features=max_features)\n",
        "estimators.append(('randomforest', model12))\n",
        "model22 = DecisionTreeClassifier()\n",
        "estimators.append(('cart', model22))\n",
        "model32 = AdaBoostClassifier(n_estimators=num_trees, random_state=seed)\n",
        "model32 = model32.fit(X_train,y_train)\n",
        "estimators.append(('svm', model32))\n",
        "\n",
        "# create the ensemble model\n",
        "ensemble1 = VotingClassifier(estimators)\n",
        "results = model_selection.cross_val_score(ensemble1, X3, Y3, cv=kfold)\n",
        "ensemble1 = ensemble1.fit(X_train,y_train)\n",
        "y_pred = ensemble1.predict(X_test)\n",
        "\n",
        "model32.score(X_test,y_test)\n",
        "print(results.mean())\n",
        "e3_acc=metrics.accuracy_score(y_test, y_pred)\n",
        "print(\"Accuracy:\",e3_acc)\n",
        "#print(\"Accuracy:\",metrics.accuracy_score(y_test, y_pred)*100,\"%\")\n",
        "print(\"Confusion Matrix:\\n\",metrics.confusion_matrix(y_test, y_pred))\n",
        "print(metrics.classification_report(y_test, y_pred))\n",
        "fpr, tpr, threshold=metrics.roc_curve(y_test, y_pred)\n",
        "auc = roc_auc_score(y_test, y_pred)\n",
        "e3auc=auc\n",
        "print(\"Area under curve:\",auc)\n",
        "plt.plot(fpr, tpr)\n",
        "# axis labels\n",
        "plt.xlabel('False Positive Rate')\n",
        "plt.ylabel('True Positive Rate')\n",
        "# show the legend\n",
        "plt.legend()\n",
        "# show the plot\n",
        "plt.show()\n",
        "print(results.mean())\n"
      ],
      "execution_count": 155,
      "outputs": [
        {
          "output_type": "stream",
          "text": [
            "No handles with labels found to put in legend.\n"
          ],
          "name": "stderr"
        },
        {
          "output_type": "stream",
          "text": [
            "0.7584607879512444\n",
            "Accuracy: 0.842174197773412\n",
            "Confusion Matrix:\n",
            " [[650 116]\n",
            " [125 636]]\n",
            "              precision    recall  f1-score   support\n",
            "\n",
            "           0       0.84      0.85      0.84       766\n",
            "           1       0.85      0.84      0.84       761\n",
            "\n",
            "    accuracy                           0.84      1527\n",
            "   macro avg       0.84      0.84      0.84      1527\n",
            "weighted avg       0.84      0.84      0.84      1527\n",
            "\n",
            "Area under curve: 0.8421532064104191\n"
          ],
          "name": "stdout"
        },
        {
          "output_type": "display_data",
          "data": {
            "image/png": "[encoded data removed]",
            "text/plain": [
              "<Figure size 504x504 with 1 Axes>"
            ]
          },
          "metadata": {
            "tags": []
          }
        },
        {
          "output_type": "stream",
          "text": [
            "0.7584607879512444\n"
          ],
          "name": "stdout"
        }
      ]
    },
    {
      "cell_type": "code",
      "metadata": {
        "id": "StDfgUjmwKcV",
        "colab_type": "code",
        "colab": {
          "base_uri": "https://localhost:8080/",
          "height": 461
        },
        "outputId": "e1cf45ca-e0a1-4f5d-97f6-726f1f5bdf1a"
      },
      "source": [
        "\n",
        "p1=plt.plot(fpr1, tpr1)\n",
        "p2=plt.plot(fpr2, tpr2)\n",
        "p3=plt.plot(fpr3, tpr3)\n",
        "p4=plt.plot(fpr4, tpr4)\n",
        "p5=plt.plot(fpr5, tpr5)\n",
        "p6=plt.plot(fpr6, tpr6)\n",
        "p7=plt.plot(fpr7, tpr7)\n",
        "p8=plt.plot(fpr8, tpr8)\n",
        "p9=plt.plot(fpr9, tpr9)\n",
        "p10=plt.plot(fpr, tpr)\n",
        "classify=['SVM','DecisionTree','KNN','RuleBased','NaiveBayes','Bagging','Boosting','RandomForest','Ensemble2','Ensemble3']\n",
        "plt.legend(classify)\n",
        "#plt.legend(p1, loc='lower right')\n",
        "\n",
        "# axis labels\n",
        "plt.xlabel('False Positive Rate')\n",
        "plt.ylabel('True Positive Rate')\n",
        "# show the legend\n",
        "plt.legend()\n",
        "# show the plot\n",
        "plt.show()\n"
      ],
      "execution_count": 156,
      "outputs": [
        {
          "output_type": "stream",
          "text": [
            "No handles with labels found to put in legend.\n"
          ],
          "name": "stderr"
        },
        {
          "output_type": "display_data",
          "data": {
            "image/png": "[encoded data removed]",
            "text/plain": [
              "<Figure size 504x504 with 1 Axes>"
            ]
          },
          "metadata": {
            "tags": []
          }
        }
      ]
    },
    {
      "cell_type": "code",
      "metadata": {
        "id": "cGZXUAd1sXnf",
        "colab_type": "code",
        "outputId": "942d53c2-0413-4c16-e70d-537b32a19721",
        "colab": {
          "base_uri": "https://localhost:8080/",
          "height": 363
        }
      },
      "source": [
        "classify=['SVM','DecisionTree','KNN','RuleBased','NaiveBayes','Bagging','Boosting','RandomForest','Ensemble2','Ensemble3']\n",
        "df_acc=pd.DataFrame(data=classify,columns=['Classifier'])\n",
        "df_acc['Accuracy']=[svm_acc*100,dt_acc*100,knn_acc*100,rule_acc*100,nb_acc*100,bag_acc*100,boost_acc*100,rf_acc*100,e2_acc*100,e3_acc*100]\n",
        "df_acc"
      ],
      "execution_count": 157,
      "outputs": [
        {
          "output_type": "execute_result",
          "data": {
            "text/html": [
              "<div>\n",
              "<style scoped>\n",
              "    .dataframe tbody tr th:only-of-type {\n",
              "        vertical-align: middle;\n",
              "    }\n",
              "\n",
              "    .dataframe tbody tr th {\n",
              "        vertical-align: top;\n",
              "    }\n",
              "\n",
              "    .dataframe thead th {\n",
              "        text-align: right;\n",
              "    }\n",
              "</style>\n",
              "<table border=\"1\" class=\"dataframe\">\n",
              "  <thead>\n",
              "    <tr style=\"text-align: right;\">\n",
              "      <th></th>\n",
              "      <th>Classifier</th>\n",
              "      <th>Accuracy</th>\n",
              "    </tr>\n",
              "  </thead>\n",
              "  <tbody>\n",
              "    <tr>\n",
              "      <th>0</th>\n",
              "      <td>SVM</td>\n",
              "      <td>54.813360</td>\n",
              "    </tr>\n",
              "    <tr>\n",
              "      <th>1</th>\n",
              "      <td>DecisionTree</td>\n",
              "      <td>51.473477</td>\n",
              "    </tr>\n",
              "    <tr>\n",
              "      <th>2</th>\n",
              "      <td>KNN</td>\n",
              "      <td>51.997380</td>\n",
              "    </tr>\n",
              "    <tr>\n",
              "      <th>3</th>\n",
              "      <td>RuleBased</td>\n",
              "      <td>48.330059</td>\n",
              "    </tr>\n",
              "    <tr>\n",
              "      <th>4</th>\n",
              "      <td>NaiveBayes</td>\n",
              "      <td>74.656189</td>\n",
              "    </tr>\n",
              "    <tr>\n",
              "      <th>5</th>\n",
              "      <td>Bagging</td>\n",
              "      <td>79.109365</td>\n",
              "    </tr>\n",
              "    <tr>\n",
              "      <th>6</th>\n",
              "      <td>Boosting</td>\n",
              "      <td>83.300589</td>\n",
              "    </tr>\n",
              "    <tr>\n",
              "      <th>7</th>\n",
              "      <td>RandomForest</td>\n",
              "      <td>84.872299</td>\n",
              "    </tr>\n",
              "    <tr>\n",
              "      <th>8</th>\n",
              "      <td>Ensemble2</td>\n",
              "      <td>83.300589</td>\n",
              "    </tr>\n",
              "    <tr>\n",
              "      <th>9</th>\n",
              "      <td>Ensemble3</td>\n",
              "      <td>84.217420</td>\n",
              "    </tr>\n",
              "  </tbody>\n",
              "</table>\n",
              "</div>"
            ],
            "text/plain": [
              "     Classifier   Accuracy\n",
              "0           SVM  54.813360\n",
              "1  DecisionTree  51.473477\n",
              "2           KNN  51.997380\n",
              "3     RuleBased  48.330059\n",
              "4    NaiveBayes  74.656189\n",
              "5       Bagging  79.109365\n",
              "6      Boosting  83.300589\n",
              "7  RandomForest  84.872299\n",
              "8     Ensemble2  83.300589\n",
              "9     Ensemble3  84.217420"
            ]
          },
          "metadata": {
            "tags": []
          },
          "execution_count": 157
        }
      ]
    },
    {
      "cell_type": "code",
      "metadata": {
        "id": "0ynVuosruI7B",
        "colab_type": "code",
        "outputId": "f068319f-09aa-4d8e-c0aa-a73359b517e9",
        "colab": {
          "base_uri": "https://localhost:8080/",
          "height": 363
        }
      },
      "source": [
        "df_acc.sort_values(by=['Accuracy'], inplace=True, ascending=False)\n",
        "df_acc"
      ],
      "execution_count": 158,
      "outputs": [
        {
          "output_type": "execute_result",
          "data": {
            "text/html": [
              "<div>\n",
              "<style scoped>\n",
              "    .dataframe tbody tr th:only-of-type {\n",
              "        vertical-align: middle;\n",
              "    }\n",
              "\n",
              "    .dataframe tbody tr th {\n",
              "        vertical-align: top;\n",
              "    }\n",
              "\n",
              "    .dataframe thead th {\n",
              "        text-align: right;\n",
              "    }\n",
              "</style>\n",
              "<table border=\"1\" class=\"dataframe\">\n",
              "  <thead>\n",
              "    <tr style=\"text-align: right;\">\n",
              "      <th></th>\n",
              "      <th>Classifier</th>\n",
              "      <th>Accuracy</th>\n",
              "    </tr>\n",
              "  </thead>\n",
              "  <tbody>\n",
              "    <tr>\n",
              "      <th>7</th>\n",
              "      <td>RandomForest</td>\n",
              "      <td>84.872299</td>\n",
              "    </tr>\n",
              "    <tr>\n",
              "      <th>9</th>\n",
              "      <td>Ensemble3</td>\n",
              "      <td>84.217420</td>\n",
              "    </tr>\n",
              "    <tr>\n",
              "      <th>6</th>\n",
              "      <td>Boosting</td>\n",
              "      <td>83.300589</td>\n",
              "    </tr>\n",
              "    <tr>\n",
              "      <th>8</th>\n",
              "      <td>Ensemble2</td>\n",
              "      <td>83.300589</td>\n",
              "    </tr>\n",
              "    <tr>\n",
              "      <th>5</th>\n",
              "      <td>Bagging</td>\n",
              "      <td>79.109365</td>\n",
              "    </tr>\n",
              "    <tr>\n",
              "      <th>4</th>\n",
              "      <td>NaiveBayes</td>\n",
              "      <td>74.656189</td>\n",
              "    </tr>\n",
              "    <tr>\n",
              "      <th>0</th>\n",
              "      <td>SVM</td>\n",
              "      <td>54.813360</td>\n",
              "    </tr>\n",
              "    <tr>\n",
              "      <th>2</th>\n",
              "      <td>KNN</td>\n",
              "      <td>51.997380</td>\n",
              "    </tr>\n",
              "    <tr>\n",
              "      <th>1</th>\n",
              "      <td>DecisionTree</td>\n",
              "      <td>51.473477</td>\n",
              "    </tr>\n",
              "    <tr>\n",
              "      <th>3</th>\n",
              "      <td>RuleBased</td>\n",
              "      <td>48.330059</td>\n",
              "    </tr>\n",
              "  </tbody>\n",
              "</table>\n",
              "</div>"
            ],
            "text/plain": [
              "     Classifier   Accuracy\n",
              "7  RandomForest  84.872299\n",
              "9     Ensemble3  84.217420\n",
              "6      Boosting  83.300589\n",
              "8     Ensemble2  83.300589\n",
              "5       Bagging  79.109365\n",
              "4    NaiveBayes  74.656189\n",
              "0           SVM  54.813360\n",
              "2           KNN  51.997380\n",
              "1  DecisionTree  51.473477\n",
              "3     RuleBased  48.330059"
            ]
          },
          "metadata": {
            "tags": []
          },
          "execution_count": 158
        }
      ]
    },
    {
      "cell_type": "code",
      "metadata": {
        "id": "3E3TxoTps-zM",
        "colab_type": "code",
        "colab": {
          "base_uri": "https://localhost:8080/",
          "height": 363
        },
        "outputId": "5c8f6872-5741-458a-d338-80f8d692f42e"
      },
      "source": [
        "classify=['SVM','DecisionTree','KNN','RuleBased','NaiveBayes','Bagging','Boosting','RandomForest','Ensemble2','Ensemble3']\n",
        "df1_acc=pd.DataFrame(data=classify,columns=['Classifier'])\n",
        "df1_acc['AUC']=[svmauc,dtauc,knnauc,rbauc,nbauc,bagauc,boostauc,rfauc,e2auc,e3auc]\n",
        "df1_acc"
      ],
      "execution_count": 159,
      "outputs": [
        {
          "output_type": "execute_result",
          "data": {
            "text/html": [
              "<div>\n",
              "<style scoped>\n",
              "    .dataframe tbody tr th:only-of-type {\n",
              "        vertical-align: middle;\n",
              "    }\n",
              "\n",
              "    .dataframe tbody tr th {\n",
              "        vertical-align: top;\n",
              "    }\n",
              "\n",
              "    .dataframe thead th {\n",
              "        text-align: right;\n",
              "    }\n",
              "</style>\n",
              "<table border=\"1\" class=\"dataframe\">\n",
              "  <thead>\n",
              "    <tr style=\"text-align: right;\">\n",
              "      <th></th>\n",
              "      <th>Classifier</th>\n",
              "      <th>AUC</th>\n",
              "    </tr>\n",
              "  </thead>\n",
              "  <tbody>\n",
              "    <tr>\n",
              "      <th>0</th>\n",
              "      <td>SVM</td>\n",
              "      <td>0.558851</td>\n",
              "    </tr>\n",
              "    <tr>\n",
              "      <th>1</th>\n",
              "      <td>DecisionTree</td>\n",
              "      <td>0.776642</td>\n",
              "    </tr>\n",
              "    <tr>\n",
              "      <th>2</th>\n",
              "      <td>KNN</td>\n",
              "      <td>0.708529</td>\n",
              "    </tr>\n",
              "    <tr>\n",
              "      <th>3</th>\n",
              "      <td>RuleBased</td>\n",
              "      <td>0.705607</td>\n",
              "    </tr>\n",
              "    <tr>\n",
              "      <th>4</th>\n",
              "      <td>NaiveBayes</td>\n",
              "      <td>0.746128</td>\n",
              "    </tr>\n",
              "    <tr>\n",
              "      <th>5</th>\n",
              "      <td>Bagging</td>\n",
              "      <td>0.791106</td>\n",
              "    </tr>\n",
              "    <tr>\n",
              "      <th>6</th>\n",
              "      <td>Boosting</td>\n",
              "      <td>0.832843</td>\n",
              "    </tr>\n",
              "    <tr>\n",
              "      <th>7</th>\n",
              "      <td>RandomForest</td>\n",
              "      <td>0.848702</td>\n",
              "    </tr>\n",
              "    <tr>\n",
              "      <th>8</th>\n",
              "      <td>Ensemble2</td>\n",
              "      <td>0.832843</td>\n",
              "    </tr>\n",
              "    <tr>\n",
              "      <th>9</th>\n",
              "      <td>Ensemble3</td>\n",
              "      <td>0.842153</td>\n",
              "    </tr>\n",
              "  </tbody>\n",
              "</table>\n",
              "</div>"
            ],
            "text/plain": [
              "     Classifier       AUC\n",
              "0           SVM  0.558851\n",
              "1  DecisionTree  0.776642\n",
              "2           KNN  0.708529\n",
              "3     RuleBased  0.705607\n",
              "4    NaiveBayes  0.746128\n",
              "5       Bagging  0.791106\n",
              "6      Boosting  0.832843\n",
              "7  RandomForest  0.848702\n",
              "8     Ensemble2  0.832843\n",
              "9     Ensemble3  0.842153"
            ]
          },
          "metadata": {
            "tags": []
          },
          "execution_count": 159
        }
      ]
    },
    {
      "cell_type": "code",
      "metadata": {
        "id": "uNM18BMCrVlv",
        "colab_type": "code",
        "outputId": "bfa95880-24c8-4476-e5d6-9dfb471dce54",
        "colab": {
          "base_uri": "https://localhost:8080/",
          "height": 363
        }
      },
      "source": [
        "#df=pd.DataFrame(data, columns = ['SVM', 'DecisionTree','KNN','RandomForest']) \n",
        "#df['SVM']=svm_score\n",
        "df=pd.DataFrame(data=svm_score,columns=['SVM'])\n",
        "df['DecisionTree']=dt_scores\n",
        "df['KNN']=knn_score\n",
        "df['RandomForest']=rf_score\n",
        "df"
      ],
      "execution_count": 160,
      "outputs": [
        {
          "output_type": "execute_result",
          "data": {
            "text/html": [
              "<div>\n",
              "<style scoped>\n",
              "    .dataframe tbody tr th:only-of-type {\n",
              "        vertical-align: middle;\n",
              "    }\n",
              "\n",
              "    .dataframe tbody tr th {\n",
              "        vertical-align: top;\n",
              "    }\n",
              "\n",
              "    .dataframe thead th {\n",
              "        text-align: right;\n",
              "    }\n",
              "</style>\n",
              "<table border=\"1\" class=\"dataframe\">\n",
              "  <thead>\n",
              "    <tr style=\"text-align: right;\">\n",
              "      <th></th>\n",
              "      <th>SVM</th>\n",
              "      <th>DecisionTree</th>\n",
              "      <th>KNN</th>\n",
              "      <th>RandomForest</th>\n",
              "    </tr>\n",
              "  </thead>\n",
              "  <tbody>\n",
              "    <tr>\n",
              "      <th>0</th>\n",
              "      <td>0.612565</td>\n",
              "      <td>0.568063</td>\n",
              "      <td>0.738220</td>\n",
              "      <td>0.458115</td>\n",
              "    </tr>\n",
              "    <tr>\n",
              "      <th>1</th>\n",
              "      <td>0.926702</td>\n",
              "      <td>0.798429</td>\n",
              "      <td>0.751309</td>\n",
              "      <td>0.827225</td>\n",
              "    </tr>\n",
              "    <tr>\n",
              "      <th>2</th>\n",
              "      <td>0.887435</td>\n",
              "      <td>0.808901</td>\n",
              "      <td>0.761780</td>\n",
              "      <td>0.772251</td>\n",
              "    </tr>\n",
              "    <tr>\n",
              "      <th>3</th>\n",
              "      <td>0.513089</td>\n",
              "      <td>0.735602</td>\n",
              "      <td>0.651832</td>\n",
              "      <td>0.740838</td>\n",
              "    </tr>\n",
              "    <tr>\n",
              "      <th>4</th>\n",
              "      <td>0.798429</td>\n",
              "      <td>0.772251</td>\n",
              "      <td>0.712042</td>\n",
              "      <td>0.685864</td>\n",
              "    </tr>\n",
              "    <tr>\n",
              "      <th>5</th>\n",
              "      <td>0.534031</td>\n",
              "      <td>0.785340</td>\n",
              "      <td>0.712042</td>\n",
              "      <td>0.835079</td>\n",
              "    </tr>\n",
              "    <tr>\n",
              "      <th>6</th>\n",
              "      <td>0.751309</td>\n",
              "      <td>0.759162</td>\n",
              "      <td>0.693717</td>\n",
              "      <td>0.800525</td>\n",
              "    </tr>\n",
              "    <tr>\n",
              "      <th>7</th>\n",
              "      <td>0.568063</td>\n",
              "      <td>0.782723</td>\n",
              "      <td>0.704188</td>\n",
              "      <td>0.813648</td>\n",
              "    </tr>\n",
              "    <tr>\n",
              "      <th>8</th>\n",
              "      <td>0.600000</td>\n",
              "      <td>0.794737</td>\n",
              "      <td>0.734211</td>\n",
              "      <td>0.839895</td>\n",
              "    </tr>\n",
              "    <tr>\n",
              "      <th>9</th>\n",
              "      <td>0.647368</td>\n",
              "      <td>0.739474</td>\n",
              "      <td>0.700000</td>\n",
              "      <td>0.824147</td>\n",
              "    </tr>\n",
              "  </tbody>\n",
              "</table>\n",
              "</div>"
            ],
            "text/plain": [
              "        SVM  DecisionTree       KNN  RandomForest\n",
              "0  0.612565      0.568063  0.738220      0.458115\n",
              "1  0.926702      0.798429  0.751309      0.827225\n",
              "2  0.887435      0.808901  0.761780      0.772251\n",
              "3  0.513089      0.735602  0.651832      0.740838\n",
              "4  0.798429      0.772251  0.712042      0.685864\n",
              "5  0.534031      0.785340  0.712042      0.835079\n",
              "6  0.751309      0.759162  0.693717      0.800525\n",
              "7  0.568063      0.782723  0.704188      0.813648\n",
              "8  0.600000      0.794737  0.734211      0.839895\n",
              "9  0.647368      0.739474  0.700000      0.824147"
            ]
          },
          "metadata": {
            "tags": []
          },
          "execution_count": 160
        }
      ]
    },
    {
      "cell_type": "markdown",
      "metadata": {
        "id": "qcOOLsyAoBbY",
        "colab_type": "text"
      },
      "source": [
        "# Paired Student's t-test"
      ]
    },
    {
      "cell_type": "code",
      "metadata": {
        "id": "7rXwNgFWkIN-",
        "colab_type": "code",
        "outputId": "742d19f2-5892-4470-f5f6-c3cf96f6013b",
        "colab": {
          "base_uri": "https://localhost:8080/",
          "height": 54
        }
      },
      "source": [
        "from scipy.stats import ttest_rel\n",
        "from scipy.stats import friedmanchisquare\n",
        "def ptest(p):\n",
        "  if p > 0.05:\n",
        "    print('Probably the same distribution')\n",
        "  else:\n",
        "    print('Probably different distributions')\n",
        "\n",
        "stat, p = ttest_rel(svm_score,rf_score)\n",
        "#stat, p = friedmanchisquare(svm_score,rf_score, dt)\n",
        "print('stat=%.3f, p=%.3f' % (stat, p))\n",
        "ptest(p)"
      ],
      "execution_count": 161,
      "outputs": [
        {
          "output_type": "stream",
          "text": [
            "stat=-1.322, p=0.219\n",
            "Probably the same distribution\n"
          ],
          "name": "stdout"
        }
      ]
    },
    {
      "cell_type": "code",
      "metadata": {
        "id": "98TeFFhLnE8i",
        "colab_type": "code",
        "outputId": "63377fdd-ee5a-42bc-fb05-b4a96f9a435d",
        "colab": {
          "base_uri": "https://localhost:8080/",
          "height": 54
        }
      },
      "source": [
        "stat, p = ttest_rel(svm_score,knn_score)\n",
        "print('stat=%.3f, p=%.3f' % (stat, p))\n",
        "ptest(p)"
      ],
      "execution_count": 162,
      "outputs": [
        {
          "output_type": "stream",
          "text": [
            "stat=-0.777, p=0.457\n",
            "Probably the same distribution\n"
          ],
          "name": "stdout"
        }
      ]
    },
    {
      "cell_type": "code",
      "metadata": {
        "id": "ejfNv2eOnj-6",
        "colab_type": "code",
        "outputId": "fa0703c8-3c6e-4161-8f2f-f914a85bfef5",
        "colab": {
          "base_uri": "https://localhost:8080/",
          "height": 54
        }
      },
      "source": [
        "stat, p = ttest_rel(svm_score,dt_scores)\n",
        "print('stat=%.3f, p=%.3f' % (stat, p))\n",
        "ptest(p)"
      ],
      "execution_count": 163,
      "outputs": [
        {
          "output_type": "stream",
          "text": [
            "stat=-1.575, p=0.150\n",
            "Probably the same distribution\n"
          ],
          "name": "stdout"
        }
      ]
    },
    {
      "cell_type": "code",
      "metadata": {
        "id": "OpxYZ0THnsYK",
        "colab_type": "code",
        "outputId": "d3c01cd6-b7ce-4617-8716-8f76d6254deb",
        "colab": {
          "base_uri": "https://localhost:8080/",
          "height": 54
        }
      },
      "source": [
        "stat, p = ttest_rel(svm_score,rf_score)\n",
        "print('stat=%.3f, p=%.3f' % (stat, p))\n",
        "ptest(p)"
      ],
      "execution_count": 164,
      "outputs": [
        {
          "output_type": "stream",
          "text": [
            "stat=-1.322, p=0.219\n",
            "Probably the same distribution\n"
          ],
          "name": "stdout"
        }
      ]
    },
    {
      "cell_type": "code",
      "metadata": {
        "id": "vUgBSWK8nwX1",
        "colab_type": "code",
        "outputId": "087b161d-f817-4419-c4d4-d4dbbb3cde9f",
        "colab": {
          "base_uri": "https://localhost:8080/",
          "height": 54
        }
      },
      "source": [
        "stat, p = ttest_rel(dt_scores,knn_score)\n",
        "print('stat=%.3f, p=%.3f' % (stat, p))\n",
        "ptest(p)"
      ],
      "execution_count": 165,
      "outputs": [
        {
          "output_type": "stream",
          "text": [
            "stat=1.631, p=0.137\n",
            "Probably the same distribution\n"
          ],
          "name": "stdout"
        }
      ]
    },
    {
      "cell_type": "code",
      "metadata": {
        "id": "zumvPIWRn2iC",
        "colab_type": "code",
        "outputId": "578bef1f-6de6-4161-da8c-9e87cb4997d4",
        "colab": {
          "base_uri": "https://localhost:8080/",
          "height": 54
        }
      },
      "source": [
        "stat, p = ttest_rel(dt_scores,rf_score)\n",
        "print('stat=%.3f, p=%.3f' % (stat, p))\n",
        "ptest(p)"
      ],
      "execution_count": 166,
      "outputs": [
        {
          "output_type": "stream",
          "text": [
            "stat=-0.265, p=0.797\n",
            "Probably the same distribution\n"
          ],
          "name": "stdout"
        }
      ]
    },
    {
      "cell_type": "code",
      "metadata": {
        "id": "UTd6OjiAn5xY",
        "colab_type": "code",
        "outputId": "63227d72-6380-4ae7-8491-ed80462490ae",
        "colab": {
          "base_uri": "https://localhost:8080/",
          "height": 54
        }
      },
      "source": [
        "stat, p = ttest_rel(knn_score,rf_score)\n",
        "print('stat=%.3f, p=%.3f' % (stat, p))\n",
        "ptest(p)"
      ],
      "execution_count": 167,
      "outputs": [
        {
          "output_type": "stream",
          "text": [
            "stat=-1.116, p=0.293\n",
            "Probably the same distribution\n"
          ],
          "name": "stdout"
        }
      ]
    }
  ]
}